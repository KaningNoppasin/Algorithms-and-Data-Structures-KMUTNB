{
 "cells": [
  {
   "cell_type": "code",
   "execution_count": 3,
   "metadata": {},
   "outputs": [
    {
     "name": "stdout",
     "output_type": "stream",
     "text": [
      "['A', 'B', 'C', 'D', 'E', 'F', 'G', 'H', 'I', 'J', 'K', 'L', 'M', 'N', 'O', 'P', 'Q', 'R', 'S', 'T', 'U', 'V', 'W', 'X', 'Y', 'Z', '0', '1', '2', '3', '4', '5', '6', '7', '8', '9']\n"
     ]
    }
   ],
   "source": [
    "class Empty(Exception):\n",
    "    \"\"\"Error attempting to access an element from an empty container.\"\"\"\n",
    "    pass\n",
    "\n",
    "class ArrayStack:\n",
    "    \"\"\"LIFO Stack implementation using a Python list as underlying storage.\"\"\"\n",
    "\n",
    "    def __init__(self):\n",
    "        \"\"\"Create an empty stack.\"\"\"\n",
    "        self._data = []\n",
    "        self._size = 0\n",
    "\n",
    "    def __len__(self):\n",
    "        \"\"\"Return the number of elements in the stack.\"\"\"\n",
    "        return self._size\n",
    "\n",
    "    def is_empty(self):\n",
    "        \"\"\"Return True if the stack is empty.\"\"\"\n",
    "        return self._size == 0\n",
    "\n",
    "    def push(self, e):\n",
    "        \"\"\"Add element e to the top of the stack.\"\"\"\n",
    "        self._data.append(e)\n",
    "        self._size += 1\n",
    "\n",
    "    def top(self):\n",
    "        \"\"\"Return (but do not remove) the element at the top of the stack.\n",
    "\n",
    "        Raise Empty exception if the stack is empty.\n",
    "        \"\"\"\n",
    "        if self.is_empty():\n",
    "            raise Empty(\"stack is empty\")\n",
    "        return self._data[-1]\n",
    "\n",
    "    def pop(self):\n",
    "        \"\"\"Remove and return the element from the top of the stack (i.e., LIFO).\n",
    "\n",
    "        Raise Empty exception if the stack is empty.\n",
    "        \"\"\"\n",
    "        if self.is_empty():\n",
    "            raise Empty(\"stack is empty\")\n",
    "        self._size -= 1\n",
    "        return self._data.pop()\n",
    "\n",
    "# def PrefixtoPostfix(prefix_exp):\n",
    "#     '''Convert prefix to postfix expression\n",
    "#     Prefix: +AB\n",
    "#     Postfix: AB+\n",
    "#     '''\n",
    "#     operand = [chr(c) for c in range(ord('A'),ord('Z') + 1)] + [str(i) for i in range(0,10)]\n",
    "#     operator = \"+-*/^\"\n",
    "#     expressionStack = ArrayStack()\n",
    "def PostfixtoInfix(postfix_exp):\n",
    "    '''Convert prefix to postfix expression\n",
    "    Postfix: AB+\n",
    "    Infix: A+B\n",
    "    '''\n",
    "    operand = [chr(c) for c in range(ord('A'),ord('Z') + 1)] + [str(i) for i in range(0,10)]\n",
    "    operator = \"+-*/^\"\n",
    "    expressionStack = ArrayStack()\n",
    "    for item in postfix_exp:\n",
    "        if item in operand:\n",
    "            expressionStack.push(item)\n",
    "        elif item in operator:\n",
    "            fist_data = expressionStack.pop()\n",
    "            second = expressionStack.pop()\n",
    "            expressionStack.push(f\"({second}{item}{fist_data})\") #=> (A+B)\n",
    "    return expressionStack.pop()\n",
    "\n",
    "# PrefixtoPostfix(\"\")"
   ]
  },
  {
   "cell_type": "code",
   "execution_count": 16,
   "metadata": {},
   "outputs": [
    {
     "name": "stdout",
     "output_type": "stream",
     "text": [
      "base case\n"
     ]
    },
    {
     "ename": "TypeError",
     "evalue": "unsupported operand type(s) for +: 'int' and 'str'",
     "output_type": "error",
     "traceback": [
      "\u001b[0;31m---------------------------------------------------------------------------\u001b[0m",
      "\u001b[0;31mTypeError\u001b[0m                                 Traceback (most recent call last)",
      "Cell \u001b[0;32mIn[16], line 16\u001b[0m\n\u001b[1;32m     12\u001b[0m     \u001b[38;5;28mprint\u001b[39m(\u001b[38;5;124m'\u001b[39m\u001b[38;5;124mbase case\u001b[39m\u001b[38;5;124m'\u001b[39m)\n\u001b[1;32m     13\u001b[0m     \u001b[38;5;28;01mreturn\u001b[39;00m infix_exp[\u001b[38;5;241m0\u001b[39m]\n\u001b[0;32m---> 16\u001b[0m \u001b[38;5;28mprint\u001b[39m(\u001b[43mInfixEvaluation\u001b[49m\u001b[43m(\u001b[49m\u001b[38;5;124;43m'\u001b[39;49m\u001b[38;5;124;43m1+2+3+4+5\u001b[39;49m\u001b[38;5;124;43m'\u001b[39;49m\u001b[43m)\u001b[49m)\n",
      "Cell \u001b[0;32mIn[16], line 6\u001b[0m, in \u001b[0;36mInfixEvaluation\u001b[0;34m(infix_exp)\u001b[0m\n\u001b[1;32m      3\u001b[0m number \u001b[38;5;241m=\u001b[39m \u001b[38;5;124m\"\u001b[39m\u001b[38;5;124m\"\u001b[39m\n\u001b[1;32m      4\u001b[0m \u001b[38;5;28;01mfor\u001b[39;00m i \u001b[38;5;129;01min\u001b[39;00m infix_exp:\n\u001b[1;32m      5\u001b[0m     \u001b[38;5;28;01mmatch\u001b[39;00m(i):\n\u001b[0;32m----> 6\u001b[0m         \u001b[38;5;28;01mcase\u001b[39;00m (\u001b[38;5;124m'\u001b[39m\u001b[38;5;124m+\u001b[39m\u001b[38;5;124m'\u001b[39m): \u001b[38;5;28;01mreturn\u001b[39;00m \u001b[38;5;28mint\u001b[39m(number) \u001b[38;5;241m+\u001b[39m \u001b[43mInfixEvaluation\u001b[49m\u001b[43m(\u001b[49m\u001b[43minfix_exp\u001b[49m\u001b[43m[\u001b[49m\u001b[38;5;28;43mlen\u001b[39;49m\u001b[43m(\u001b[49m\u001b[43mnumber\u001b[49m\u001b[43m)\u001b[49m\u001b[43m \u001b[49m\u001b[38;5;241;43m+\u001b[39;49m\u001b[43m \u001b[49m\u001b[38;5;241;43m1\u001b[39;49m\u001b[43m:\u001b[49m\u001b[43m]\u001b[49m\u001b[43m)\u001b[49m\n\u001b[1;32m      7\u001b[0m         \u001b[38;5;28;01mcase\u001b[39;00m (\u001b[38;5;124m'\u001b[39m\u001b[38;5;124m-\u001b[39m\u001b[38;5;124m'\u001b[39m): \u001b[38;5;28;01mreturn\u001b[39;00m \u001b[38;5;28mint\u001b[39m(number) \u001b[38;5;241m-\u001b[39m InfixEvaluation(infix_exp[\u001b[38;5;28mlen\u001b[39m(number) \u001b[38;5;241m+\u001b[39m \u001b[38;5;241m1\u001b[39m:])\n\u001b[1;32m      8\u001b[0m         \u001b[38;5;28;01mcase\u001b[39;00m (\u001b[38;5;124m'\u001b[39m\u001b[38;5;124m*\u001b[39m\u001b[38;5;124m'\u001b[39m): \u001b[38;5;28;01mreturn\u001b[39;00m \u001b[38;5;28mint\u001b[39m(number) \u001b[38;5;241m*\u001b[39m InfixEvaluation(infix_exp[\u001b[38;5;28mlen\u001b[39m(number) \u001b[38;5;241m+\u001b[39m \u001b[38;5;241m1\u001b[39m:])\n\u001b[1;32m      9\u001b[0m         \u001b[38;5;28;01mcase\u001b[39;00m (\u001b[38;5;124m'\u001b[39m\u001b[38;5;124m/\u001b[39m\u001b[38;5;124m'\u001b[39m): \u001b[38;5;28;01mreturn\u001b[39;00m \u001b[38;5;28mint\u001b[39m(number) \u001b[38;5;241m/\u001b[39m InfixEvaluation(infix_exp[\u001b[38;5;28mlen\u001b[39m(number) \u001b[38;5;241m+\u001b[39m \u001b[38;5;241m1\u001b[39m:])\n\u001b[1;32m     10\u001b[0m         \u001b[38;5;28;01mcase\u001b[39;00m (\u001b[38;5;28;01m_\u001b[39;00m) : number \u001b[38;5;241m+\u001b[39m\u001b[38;5;241m=\u001b[39m i\n\u001b[1;32m     11\u001b[0m \u001b[38;5;66;03m# else:\u001b[39;00m\n\u001b[1;32m     12\u001b[0m \u001b[38;5;28mprint\u001b[39m(\u001b[38;5;124m'\u001b[39m\u001b[38;5;124mbase case\u001b[39m\u001b[38;5;124m'\u001b[39m)\n",
      "Cell \u001b[0;32mIn[16], line 6\u001b[0m, in \u001b[0;36mInfixEvaluation\u001b[0;34m(infix_exp)\u001b[0m\n\u001b[1;32m      3\u001b[0m number \u001b[38;5;241m=\u001b[39m \u001b[38;5;124m\"\u001b[39m\u001b[38;5;124m\"\u001b[39m\n\u001b[1;32m      4\u001b[0m \u001b[38;5;28;01mfor\u001b[39;00m i \u001b[38;5;129;01min\u001b[39;00m infix_exp:\n\u001b[1;32m      5\u001b[0m     \u001b[38;5;28;01mmatch\u001b[39;00m(i):\n\u001b[0;32m----> 6\u001b[0m         \u001b[38;5;28;01mcase\u001b[39;00m (\u001b[38;5;124m'\u001b[39m\u001b[38;5;124m+\u001b[39m\u001b[38;5;124m'\u001b[39m): \u001b[38;5;28;01mreturn\u001b[39;00m \u001b[38;5;28mint\u001b[39m(number) \u001b[38;5;241m+\u001b[39m \u001b[43mInfixEvaluation\u001b[49m\u001b[43m(\u001b[49m\u001b[43minfix_exp\u001b[49m\u001b[43m[\u001b[49m\u001b[38;5;28;43mlen\u001b[39;49m\u001b[43m(\u001b[49m\u001b[43mnumber\u001b[49m\u001b[43m)\u001b[49m\u001b[43m \u001b[49m\u001b[38;5;241;43m+\u001b[39;49m\u001b[43m \u001b[49m\u001b[38;5;241;43m1\u001b[39;49m\u001b[43m:\u001b[49m\u001b[43m]\u001b[49m\u001b[43m)\u001b[49m\n\u001b[1;32m      7\u001b[0m         \u001b[38;5;28;01mcase\u001b[39;00m (\u001b[38;5;124m'\u001b[39m\u001b[38;5;124m-\u001b[39m\u001b[38;5;124m'\u001b[39m): \u001b[38;5;28;01mreturn\u001b[39;00m \u001b[38;5;28mint\u001b[39m(number) \u001b[38;5;241m-\u001b[39m InfixEvaluation(infix_exp[\u001b[38;5;28mlen\u001b[39m(number) \u001b[38;5;241m+\u001b[39m \u001b[38;5;241m1\u001b[39m:])\n\u001b[1;32m      8\u001b[0m         \u001b[38;5;28;01mcase\u001b[39;00m (\u001b[38;5;124m'\u001b[39m\u001b[38;5;124m*\u001b[39m\u001b[38;5;124m'\u001b[39m): \u001b[38;5;28;01mreturn\u001b[39;00m \u001b[38;5;28mint\u001b[39m(number) \u001b[38;5;241m*\u001b[39m InfixEvaluation(infix_exp[\u001b[38;5;28mlen\u001b[39m(number) \u001b[38;5;241m+\u001b[39m \u001b[38;5;241m1\u001b[39m:])\n\u001b[1;32m      9\u001b[0m         \u001b[38;5;28;01mcase\u001b[39;00m (\u001b[38;5;124m'\u001b[39m\u001b[38;5;124m/\u001b[39m\u001b[38;5;124m'\u001b[39m): \u001b[38;5;28;01mreturn\u001b[39;00m \u001b[38;5;28mint\u001b[39m(number) \u001b[38;5;241m/\u001b[39m InfixEvaluation(infix_exp[\u001b[38;5;28mlen\u001b[39m(number) \u001b[38;5;241m+\u001b[39m \u001b[38;5;241m1\u001b[39m:])\n\u001b[1;32m     10\u001b[0m         \u001b[38;5;28;01mcase\u001b[39;00m (\u001b[38;5;28;01m_\u001b[39;00m) : number \u001b[38;5;241m+\u001b[39m\u001b[38;5;241m=\u001b[39m i\n\u001b[1;32m     11\u001b[0m \u001b[38;5;66;03m# else:\u001b[39;00m\n\u001b[1;32m     12\u001b[0m \u001b[38;5;28mprint\u001b[39m(\u001b[38;5;124m'\u001b[39m\u001b[38;5;124mbase case\u001b[39m\u001b[38;5;124m'\u001b[39m)\n",
      "    \u001b[0;31m[... skipping similar frames: InfixEvaluation at line 6 (1 times)]\u001b[0m\n",
      "Cell \u001b[0;32mIn[16], line 6\u001b[0m, in \u001b[0;36mInfixEvaluation\u001b[0;34m(infix_exp)\u001b[0m\n\u001b[1;32m      3\u001b[0m number \u001b[38;5;241m=\u001b[39m \u001b[38;5;124m\"\u001b[39m\u001b[38;5;124m\"\u001b[39m\n\u001b[1;32m      4\u001b[0m \u001b[38;5;28;01mfor\u001b[39;00m i \u001b[38;5;129;01min\u001b[39;00m infix_exp:\n\u001b[1;32m      5\u001b[0m     \u001b[38;5;28;01mmatch\u001b[39;00m(i):\n\u001b[0;32m----> 6\u001b[0m         \u001b[38;5;28;01mcase\u001b[39;00m (\u001b[38;5;124m'\u001b[39m\u001b[38;5;124m+\u001b[39m\u001b[38;5;124m'\u001b[39m): \u001b[38;5;28;01mreturn\u001b[39;00m \u001b[38;5;28;43mint\u001b[39;49m\u001b[43m(\u001b[49m\u001b[43mnumber\u001b[49m\u001b[43m)\u001b[49m\u001b[43m \u001b[49m\u001b[38;5;241;43m+\u001b[39;49m\u001b[43m \u001b[49m\u001b[43mInfixEvaluation\u001b[49m\u001b[43m(\u001b[49m\u001b[43minfix_exp\u001b[49m\u001b[43m[\u001b[49m\u001b[38;5;28;43mlen\u001b[39;49m\u001b[43m(\u001b[49m\u001b[43mnumber\u001b[49m\u001b[43m)\u001b[49m\u001b[43m \u001b[49m\u001b[38;5;241;43m+\u001b[39;49m\u001b[43m \u001b[49m\u001b[38;5;241;43m1\u001b[39;49m\u001b[43m:\u001b[49m\u001b[43m]\u001b[49m\u001b[43m)\u001b[49m\n\u001b[1;32m      7\u001b[0m         \u001b[38;5;28;01mcase\u001b[39;00m (\u001b[38;5;124m'\u001b[39m\u001b[38;5;124m-\u001b[39m\u001b[38;5;124m'\u001b[39m): \u001b[38;5;28;01mreturn\u001b[39;00m \u001b[38;5;28mint\u001b[39m(number) \u001b[38;5;241m-\u001b[39m InfixEvaluation(infix_exp[\u001b[38;5;28mlen\u001b[39m(number) \u001b[38;5;241m+\u001b[39m \u001b[38;5;241m1\u001b[39m:])\n\u001b[1;32m      8\u001b[0m         \u001b[38;5;28;01mcase\u001b[39;00m (\u001b[38;5;124m'\u001b[39m\u001b[38;5;124m*\u001b[39m\u001b[38;5;124m'\u001b[39m): \u001b[38;5;28;01mreturn\u001b[39;00m \u001b[38;5;28mint\u001b[39m(number) \u001b[38;5;241m*\u001b[39m InfixEvaluation(infix_exp[\u001b[38;5;28mlen\u001b[39m(number) \u001b[38;5;241m+\u001b[39m \u001b[38;5;241m1\u001b[39m:])\n\u001b[1;32m      9\u001b[0m         \u001b[38;5;28;01mcase\u001b[39;00m (\u001b[38;5;124m'\u001b[39m\u001b[38;5;124m/\u001b[39m\u001b[38;5;124m'\u001b[39m): \u001b[38;5;28;01mreturn\u001b[39;00m \u001b[38;5;28mint\u001b[39m(number) \u001b[38;5;241m/\u001b[39m InfixEvaluation(infix_exp[\u001b[38;5;28mlen\u001b[39m(number) \u001b[38;5;241m+\u001b[39m \u001b[38;5;241m1\u001b[39m:])\n\u001b[1;32m     10\u001b[0m         \u001b[38;5;28;01mcase\u001b[39;00m (\u001b[38;5;28;01m_\u001b[39;00m) : number \u001b[38;5;241m+\u001b[39m\u001b[38;5;241m=\u001b[39m i\n\u001b[1;32m     11\u001b[0m \u001b[38;5;66;03m# else:\u001b[39;00m\n\u001b[1;32m     12\u001b[0m \u001b[38;5;28mprint\u001b[39m(\u001b[38;5;124m'\u001b[39m\u001b[38;5;124mbase case\u001b[39m\u001b[38;5;124m'\u001b[39m)\n",
      "\u001b[0;31mTypeError\u001b[0m: unsupported operand type(s) for +: 'int' and 'str'"
     ]
    }
   ],
   "source": [
    "def InfixEvaluation(infix_exp: str):\n",
    "    if infix_exp in '/[*/+-]/':\n",
    "        number = \"\"\n",
    "        for i in infix_exp:\n",
    "            match(i):\n",
    "                case ('+'): return int(number) + InfixEvaluation(infix_exp[len(number) + 1:])\n",
    "                case ('-'): return int(number) - InfixEvaluation(infix_exp[len(number) + 1:])\n",
    "                case ('*'): return int(number) * InfixEvaluation(infix_exp[len(number) + 1:])\n",
    "                case ('/'): return int(number) / InfixEvaluation(infix_exp[len(number) + 1:])\n",
    "                case (_) : number += i\n",
    "    else:\n",
    "        print('base case')\n",
    "        return infix_exp[0]\n",
    "\n",
    "\n",
    "print(InfixEvaluation('1+2+3+4+5'))"
   ]
  }
 ],
 "metadata": {
  "kernelspec": {
   "display_name": "base",
   "language": "python",
   "name": "python3"
  },
  "language_info": {
   "codemirror_mode": {
    "name": "ipython",
    "version": 3
   },
   "file_extension": ".py",
   "mimetype": "text/x-python",
   "name": "python",
   "nbconvert_exporter": "python",
   "pygments_lexer": "ipython3",
   "version": "3.10.9"
  }
 },
 "nbformat": 4,
 "nbformat_minor": 2
}
