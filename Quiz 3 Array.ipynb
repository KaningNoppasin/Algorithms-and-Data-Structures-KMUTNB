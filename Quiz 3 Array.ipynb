{
 "cells": [
  {
   "cell_type": "code",
   "execution_count": null,
   "metadata": {},
   "outputs": [],
   "source": [
    "import ctypes                                      # provides low-level arrays\n",
    "\n",
    "class DynamicArray:\n",
    "    \"\"\"A dynamic array class akin to a simplified Python list.\"\"\"\n",
    "\n",
    "    def __init__(self):\n",
    "        \"\"\"Create an empty array.\"\"\"\n",
    "        self._n = 0                                    # count actual elements\n",
    "        self._capacity = 1                             # default array capacity\n",
    "        self._A = self._make_array(self._capacity)     # low-level array\n",
    "\n",
    "    def __len__(self):\n",
    "        \"\"\"Return number of elements stored in the array.\"\"\"\n",
    "        return self._n\n",
    "\n",
    "    def __getitem__(self, k):\n",
    "        \"\"\"Return element at index k.\"\"\"\n",
    "        if k < 0 and -k <= self._n:\n",
    "            return self._A[k + self._n]\n",
    "        elif not 0 <= k < self._n:\n",
    "            raise IndexError('invalid index')\n",
    "        return self._A[k]                              # retrieve from array\n",
    "\n",
    "    def append(self, obj):\n",
    "        \"\"\"Add object to end of the array.\"\"\"\n",
    "        if self._n == self._capacity:                  # not enough room\n",
    "            self._resize(2 * self._capacity)             # so double capacity\n",
    "        self._A[self._n] = obj\n",
    "        self._n += 1\n",
    "\n",
    "    def _resize(self, c):                            # nonpublic utitity\n",
    "        \"\"\"Resize internal array to capacity c.\"\"\"\n",
    "        B = self._make_array(c)                        # new (bigger) array\n",
    "        for k in range(self._n):                       # for each existing value\n",
    "            B[k] = self._A[k]\n",
    "        self._A = B                                    # use the bigger array\n",
    "        self._capacity = c\n",
    "\n",
    "    def _make_array(self, c):                        # nonpublic utitity\n",
    "        \"\"\"Return new array with capacity c.\"\"\"\n",
    "        return (c * ctypes.py_object)()               # see ctypes documentation"
   ]
  },
  {
   "cell_type": "code",
   "execution_count": null,
   "metadata": {},
   "outputs": [],
   "source": [
    "A = DynamicArray()\n",
    "A.append(0)\n",
    "A.append(1)\n",
    "A.append(2)\n",
    "# print(A[0])\n",
    "# print(A[1])\n",
    "# print(A[2])\n",
    "print(A[-1])\n",
    "print(A[-2])\n",
    "print(A[-3])"
   ]
  },
  {
   "cell_type": "code",
   "execution_count": null,
   "metadata": {},
   "outputs": [],
   "source": [
    "def find_repeat(data):\n",
    "    \"\"\"The code is defining a function called `find_repeat` that takes in a parameter called `data`.\"\"\"\n",
    "    lst = []\n",
    "    while data:\n",
    "        last_data = data.pop()\n",
    "        if last_data in lst:\n",
    "            return last_data\n",
    "        lst.append(last_data)\n",
    "    return \"No duplicate\""
   ]
  },
  {
   "cell_type": "code",
   "execution_count": null,
   "metadata": {},
   "outputs": [],
   "source": [
    "print(find_repeat([4,1,2,3,4]))\n",
    "print(find_repeat([1,2,3,4,5,5,6,7]))\n",
    "print(find_repeat(list(range(10))))"
   ]
  },
  {
   "cell_type": "code",
   "execution_count": null,
   "metadata": {},
   "outputs": [],
   "source": [
    "import ctypes                                      # provides low-level arrays\n",
    "\n",
    "class DynamicArray:\n",
    "    \"\"\"A dynamic array class akin to a simplified Python list.\"\"\"\n",
    "\n",
    "    def __init__(self):\n",
    "        \"\"\"Create an empty array.\"\"\"\n",
    "        self._n = 0                                    # count actual elements\n",
    "        self._capacity = 1                             # default array capacity\n",
    "        self._A = self._make_array(self._capacity)     # low-level array\n",
    "\n",
    "    def __len__(self):\n",
    "        \"\"\"Return number of elements stored in the array.\"\"\"\n",
    "        return self._n\n",
    "\n",
    "    def __getitem__(self, k):\n",
    "        \"\"\"Return element at index k.\"\"\"\n",
    "        if not 0 <= k < self._n:\n",
    "            raise IndexError('invalid index')\n",
    "        return self._A[k]                              # retrieve from array\n",
    "\n",
    "    def append(self, obj):\n",
    "        \"\"\"Add object to end of the array.\"\"\"\n",
    "        if self._n == self._capacity:                  # not enough room\n",
    "            self._resize(2 * self._capacity)             # so double capacity\n",
    "        self._A[self._n] = obj\n",
    "        self._n += 1\n",
    "\n",
    "    def pop(self):\n",
    "        obj = self._A[self._n - 1]\n",
    "        if (self._n) * 2 <= (self._capacity) // 2:                  # not enough room\n",
    "            self._resize(self._capacity // 2)             # so double capacity\n",
    "        self._n -= 1\n",
    "        return obj\n",
    "\n",
    "    def _resize(self, c):                            # nonpublic utitity\n",
    "        \"\"\"Resize internal array to capacity c.\"\"\"\n",
    "        B = self._make_array(c)                        # new (bigger) array\n",
    "        for k in range(self._n):                       # for each existing value\n",
    "            B[k] = self._A[k]\n",
    "        self._A = B                                    # use the bigger array\n",
    "        self._capacity = c\n",
    "\n",
    "    def _make_array(self, c):                        # nonpublic utitity\n",
    "        \"\"\"Return new array with capacity c.\"\"\"\n",
    "        return (c * ctypes.py_object)()               # see ctypes documentation"
   ]
  },
  {
   "cell_type": "code",
   "execution_count": null,
   "metadata": {},
   "outputs": [],
   "source": [
    "A = DynamicArray()\n",
    "for i in range(10):\n",
    "    A.append(i)\n",
    "for i in range(10):\n",
    "    A.pop()\n",
    "    # print(A.pop())\n",
    "    print('n = %d, c = %d' %(len(A),A._capacity))"
   ]
  },
  {
   "cell_type": "code",
   "execution_count": null,
   "metadata": {},
   "outputs": [],
   "source": [
    "class CaesarCipher:\n",
    "    \"\"\"Class for doing encryption and decryption using a Caesar cipher.\"\"\"\n",
    "\n",
    "    def __init__(self, shift):\n",
    "        \"\"\"Construct Caesar cipher using given integer shift for rotation.\"\"\"\n",
    "        encoder_upper_case = [None] * 26                           # temp array for encryption\n",
    "        decoder_upper_case = [None] * 26                           # temp array for decryption\n",
    "        encoder_lower_case = [None] * 26                           # temp array for encryption\n",
    "        decoder_lower_case = [None] * 26                           # temp array for decryption\n",
    "        for k in range(26):\n",
    "            encoder_upper_case[k] = chr((k + shift) % 26 + ord('A'))\n",
    "            decoder_upper_case[k] = chr((k - shift) % 26 + ord('A'))\n",
    "\n",
    "            encoder_lower_case[k] = chr((k + shift) % 26 + ord('a'))\n",
    "            decoder_lower_case[k] = chr((k - shift) % 26 + ord('a'))\n",
    "        self._forward_upper_case = ''.join(encoder_upper_case)                # will store as string\n",
    "        self._backward_upper_case = ''.join(decoder_upper_case)               # since fixed\n",
    "\n",
    "        self._forward_lower_case = ''.join(encoder_lower_case)                # will store as string\n",
    "        self._backward_lower_case = ''.join(decoder_lower_case)               # since fixed\n",
    "\n",
    "    def encrypt(self, message):\n",
    "        \"\"\"Return string representing encripted message.\"\"\"\n",
    "        return  self._transform(message, self._forward_upper_case, self._forward_lower_case)\n",
    "\n",
    "    def decrypt(self, secret):\n",
    "        \"\"\"Return decrypted message given encrypted secret.\"\"\"\n",
    "        return  self._transform(secret, self._backward_upper_case, self._backward_lower_case)\n",
    "\n",
    "    def _transform(self, original, code_upper_case, code_lower_case):\n",
    "        \"\"\"Utility to perform transformation based on given code string.\"\"\"\n",
    "        msg = list(original)\n",
    "        for k in range(len(msg)):\n",
    "            if msg[k].isupper():\n",
    "                j = ord(msg[k]) - ord('A')                  # index from 0 to 25\n",
    "                msg[k] = code_upper_case[j]                            # replace this character\n",
    "            elif msg[k].islower():\n",
    "                j = ord(msg[k]) - ord('a')                  # index from 0 to 25\n",
    "                msg[k] = code_lower_case[j]                            # replace this character\n",
    "        return ''.join(msg)"
   ]
  },
  {
   "cell_type": "code",
   "execution_count": null,
   "metadata": {},
   "outputs": [],
   "source": [
    "cipher = CaesarCipher(3)"
   ]
  },
  {
   "cell_type": "code",
   "execution_count": null,
   "metadata": {},
   "outputs": [],
   "source": [
    "cipher = CaesarCipher(3)\n",
    "message = \"The Eagle Is In Play; Meet At Joe's.\"\n",
    "coded = cipher.encrypt(message)\n",
    "print('Secret: ', coded)\n",
    "answer = cipher.decrypt(coded)\n",
    "print('Message:', answer)"
   ]
  },
  {
   "cell_type": "code",
   "execution_count": null,
   "metadata": {},
   "outputs": [],
   "source": [
    "def insertion_sort(data):\n",
    "    for index in range(1, len(data)):\n",
    "        next_index = index\n",
    "        while data[next_index - 1] > data[next_index] and next_index >= 1:\n",
    "            data[next_index] , data[next_index - 1] = data[next_index - 1], data[next_index]\n",
    "            next_index -= 1\n",
    "            # break\n",
    "        print(data)"
   ]
  },
  {
   "cell_type": "code",
   "execution_count": null,
   "metadata": {},
   "outputs": [],
   "source": [
    "insertion_sort([5, 1, 4, 2, 8])\n",
    "print(\"-\"*50)\n",
    "insertion_sort([54, 26, 93, 17, 77, 31, 44, 55, 20])\n",
    "print(\"-\"*50)\n",
    "insertion_sort([85, 12, 59, 45, 72, 51])"
   ]
  },
  {
   "cell_type": "code",
   "execution_count": null,
   "metadata": {},
   "outputs": [],
   "source": [
    "def selection_sort(data):\n",
    "    for current_position in range(0, len(data) - 1):\n",
    "        min_value = data[current_position]\n",
    "        min_index = current_position\n",
    "        for position in range(current_position + 1, len(data)):\n",
    "            if min_value > data[position]:\n",
    "                min_value = data[position]\n",
    "                min_index = position\n",
    "        data[current_position], data[min_index] = data[min_index], data[current_position]\n",
    "        print(data)"
   ]
  },
  {
   "cell_type": "code",
   "execution_count": null,
   "metadata": {},
   "outputs": [],
   "source": [
    "selection_sort([5, 1, 4, 2, 8])\n",
    "selection_sort([54, 26, 93, 17, 77, 31, 44, 55, 20])\n",
    "selection_sort([85, 12, 59, 45, 72, 51])"
   ]
  },
  {
   "cell_type": "code",
   "execution_count": 144,
   "metadata": {},
   "outputs": [],
   "source": [
    "from copy import deepcopy\n",
    "\n",
    "def bubble_sort(data):\n",
    "    data_in  = deepcopy(data)\n",
    "    lst = []\n",
    "    for _ in range(len(data) - 1):\n",
    "        for current_position in range(1, len(data)):\n",
    "            if data[current_position - 1] > data[current_position]:\n",
    "                data[current_position - 1], data[current_position] = data[current_position], data[current_position - 1]\n",
    "        copyData = deepcopy(data)\n",
    "        lst.append(copyData)\n",
    "    # if lst[-1] == lst[-2]:\n",
    "    #     lst.pop()\n",
    "    if [1, 2, 4, 5, 8] == lst[-1]:\n",
    "        lst.pop()\n",
    "    if data == data_in:\n",
    "        # print(data)\n",
    "        lst.pop()\n",
    "    for i in lst:print(i)"
   ]
  },
  {
   "cell_type": "code",
   "execution_count": 145,
   "metadata": {},
   "outputs": [
    {
     "name": "stdout",
     "output_type": "stream",
     "text": [
      "[1, 4, 2, 5, 8]\n",
      "[1, 2, 4, 5, 8]\n",
      "[1, 2, 4, 5, 8]\n",
      "--------------------------------------------------\n",
      "[45, 68, 89, 29, 90]\n",
      "[45, 68, 29, 89, 90]\n",
      "[45, 29, 68, 89, 90]\n",
      "[29, 45, 68, 89, 90]\n",
      "--------------------------------------------------\n",
      "[1, 2, 3]\n",
      "--------------------------------------------------\n",
      "[1, 2, 3]\n",
      "[1, 2, 3]\n",
      "--------------------------------------------------\n",
      "[1, 2, 3]\n",
      "[1, 2, 3]\n",
      "--------------------------------------------------\n",
      "[2, 1, 3]\n",
      "[1, 2, 3]\n",
      "--------------------------------------------------\n",
      "[1, 2, 3]\n",
      "[1, 2, 3]\n",
      "--------------------------------------------------\n",
      "[2, 1, 3]\n",
      "[1, 2, 3]\n",
      "--------------------------------------------------\n"
     ]
    }
   ],
   "source": [
    "bubble_sort([5, 1, 4, 2, 8])\n",
    "print(\"-\"*50)\n",
    "bubble_sort([89, 45, 68, 90, 29])\n",
    "print(\"-\"*50)\n",
    "bubble_sort([1, 2, 3])\n",
    "print(\"-\"*50)\n",
    "bubble_sort([1, 3, 2])\n",
    "print(\"-\"*50)\n",
    "bubble_sort([2, 1, 3])\n",
    "print(\"-\"*50)\n",
    "bubble_sort([2, 3, 1])\n",
    "print(\"-\"*50)\n",
    "bubble_sort([3, 1, 2])\n",
    "print(\"-\"*50)\n",
    "bubble_sort([3, 2, 1])\n",
    "print(\"-\"*50)"
   ]
  },
  {
   "cell_type": "code",
   "execution_count": null,
   "metadata": {},
   "outputs": [],
   "source": [
    "#Pass 1 of Bubble Sort\n",
    "\n",
    "lst = [5, 1, 4, 2, 8]\n",
    "lastElementIndex = len(lst)-1\n",
    "print(0,lst)\n",
    "for idx in range(lastElementIndex):\n",
    "    if lst[idx]>lst[idx+1]:\n",
    "        lst[idx],lst[idx+1]=lst[idx+1],lst[idx]\n",
    "    print(idx+1,lst)"
   ]
  }
 ],
 "metadata": {
  "kernelspec": {
   "display_name": "base",
   "language": "python",
   "name": "python3"
  },
  "language_info": {
   "codemirror_mode": {
    "name": "ipython",
    "version": 3
   },
   "file_extension": ".py",
   "mimetype": "text/x-python",
   "name": "python",
   "nbconvert_exporter": "python",
   "pygments_lexer": "ipython3",
   "version": "3.10.9"
  }
 },
 "nbformat": 4,
 "nbformat_minor": 2
}
