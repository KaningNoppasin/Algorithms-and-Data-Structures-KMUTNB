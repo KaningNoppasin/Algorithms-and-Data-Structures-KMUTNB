{
 "cells": [
  {
   "cell_type": "code",
   "execution_count": null,
   "metadata": {},
   "outputs": [],
   "source": [
    "def build_max_heap(A):\n",
    "    for i in range((len(A) // 2) -1, -1, -1):\n",
    "        if i == 0 and A[0] <= A[1]:\n",
    "            A[0], A[1] = A[1],  A[0]\n",
    "        elif i == 0 and A[0] <= A[2]:\n",
    "            A[0], A[2] = A[2],  A[0]\n",
    "        elif (A[i] <= A[i * 2]):\n",
    "            A[i], A[i * 2] = A[i * 2],  A[i]\n",
    "        elif (A[i] <= A[i * 2 + 1]):\n",
    "            A[i], A[i * 2 + 1] = A[i * 2],  A[i]\n",
    "        print(A, i, i * 2,sep=\"\\t\")"
   ]
  },
  {
   "cell_type": "code",
   "execution_count": null,
   "metadata": {},
   "outputs": [],
   "source": [
    "A = [1, 12, 9, 5, 6, 10]\n",
    "build_max_heap(A)"
   ]
  },
  {
   "cell_type": "code",
   "execution_count": null,
   "metadata": {},
   "outputs": [],
   "source": [
    "# Bottom-Up Heap Construction\n",
    "\n",
    "def heapifyMax(List,rootIndex):\n",
    "    leftIndex = (rootIndex * 2) + 1\n",
    "    rightIndex = (rootIndex * 2) + 2\n",
    "    print(leftIndex, rightIndex)\n",
    "    if (len(List) <= leftIndex and len(List) <= rightIndex):\n",
    "        return\n",
    "    # Have Only Left\n",
    "    elif (List[rootIndex] < List[leftIndex]) and len(List) <= rightIndex:\n",
    "        # Swap Left\n",
    "        List[rootIndex] , List[leftIndex] = List[leftIndex] , List[rootIndex]\n",
    "        # heapifyMax(List,leftIndex)\n",
    "    # Can Swap\n",
    "    elif (List[rootIndex] < List[leftIndex] or List[rootIndex] < List[rightIndex]) and len(List) > rightIndex and len(List) > leftIndex:\n",
    "        # Swap Left\n",
    "        if (List[leftIndex] > List[rightIndex]):\n",
    "            List[rootIndex] , List[leftIndex] = List[leftIndex] , List[rootIndex]\n",
    "            # heapifyMax(List,leftIndex)\n",
    "        # Swap Right\n",
    "        elif (List[rightIndex] > List[leftIndex]):\n",
    "            List[rootIndex] , List[rightIndex] = List[rightIndex] , List[rootIndex]\n",
    "            # heapifyMax(List,rightIndex)\n",
    "\n",
    "\n",
    "def build_max_heap(List):\n",
    "    for i in range((len(List)//2) - 1, -1, -1):\n",
    "        # print(i)\n",
    "        \"\"\"\n",
    "                i => root\n",
    "                / \\\n",
    "            left  right\n",
    "        Index Left  = (i * 2) + 1\n",
    "        Index Right = (i * 2) + 2\n",
    "        \"\"\"\n",
    "        heapifyMax(List, i)\n",
    "        print(List)\n",
    "\n"
   ]
  },
  {
   "cell_type": "code",
   "execution_count": 121,
   "metadata": {},
   "outputs": [],
   "source": [
    "# Karn\n",
    "def hearify(arr, n, i):\n",
    "    LeftChildIndex, RightChildIndex = 2*i + 1, 2*i + 2  # get index of childs\n",
    "    \n",
    "    if i > n//2-1:                                  # base case, beware list is out of range\n",
    "        return\n",
    "    \n",
    "    try:                                            # two childs case\n",
    "        if arr[RightChildIndex] > arr[i] and arr[RightChildIndex] > arr[LeftChildIndex]:\n",
    "            arr[RightChildIndex], arr[i] = arr[i], arr[RightChildIndex]\n",
    "            hearify(arr, n, RightChildIndex)\n",
    "        elif arr[LeftChildIndex] > arr[i] and arr[LeftChildIndex] > arr[RightChildIndex]:\n",
    "            arr[LeftChildIndex], arr[i] = arr[i], arr[LeftChildIndex]\n",
    "            hearify(arr, n, LeftChildIndex)\n",
    "    except:                                         # one child case\n",
    "        if arr[LeftChildIndex] > arr[i]:\n",
    "            arr[LeftChildIndex], arr[i] = arr[i], arr[LeftChildIndex]\n",
    "            hearify(arr, n, LeftChildIndex)\n",
    "            \n",
    "    # hearify(arr, n, i+1)                            # recursive to check hearify of childs\n",
    "\n",
    "def build_max_heap(A):\n",
    "    n = len(A)\n",
    "    for i in range(n//2-1,-1,-1):                   # start at the last root to the first root\n",
    "        hearify(A, n, i)                            # check the hearify of root   \n",
    "        print(A)"
   ]
  },
  {
   "cell_type": "code",
   "execution_count": 122,
   "metadata": {},
   "outputs": [
    {
     "name": "stdout",
     "output_type": "stream",
     "text": [
      "[14, 5, 8, 25, 9, 11, 23, 16, 15, 4, 12, 6, 7, 17, 20]\n",
      "[14, 5, 8, 25, 9, 11, 23, 16, 15, 4, 12, 6, 7, 17, 20]\n",
      "[14, 5, 8, 25, 12, 11, 23, 16, 15, 4, 9, 6, 7, 17, 20]\n",
      "[14, 5, 8, 25, 12, 11, 23, 16, 15, 4, 9, 6, 7, 17, 20]\n",
      "[14, 5, 23, 25, 12, 11, 20, 16, 15, 4, 9, 6, 7, 17, 8]\n",
      "[14, 25, 23, 16, 12, 11, 20, 5, 15, 4, 9, 6, 7, 17, 8]\n",
      "[25, 16, 23, 15, 12, 11, 20, 5, 14, 4, 9, 6, 7, 17, 8]\n"
     ]
    }
   ],
   "source": [
    "A = [14, 5, 8, 25, 9, 11, 17, 16, 15, 4, 12, 6, 7, 23, 20]\n",
    "build_max_heap(A)"
   ]
  },
  {
   "cell_type": "code",
   "execution_count": null,
   "metadata": {},
   "outputs": [],
   "source": [
    "# Bottom-Up Heap Construction\n",
    "\n",
    "def heapifyMax(List,rootIndex):\n",
    "    leftIndex = (rootIndex * 2) + 1\n",
    "    rightIndex = (rootIndex * 2) + 2\n",
    "    # print(leftIndex, rightIndex)\n",
    "    if (len(List) <= leftIndex and len(List) <= rightIndex):\n",
    "        return\n",
    "    # Have Only Left\n",
    "    if (List[rootIndex] < List[leftIndex]) and (len(List) == rightIndex):\n",
    "        # Swap Left\n",
    "        List[rootIndex] , List[leftIndex] = List[leftIndex] , List[rootIndex]\n",
    "        heapifyMax(List,leftIndex)\n",
    "    # Can Swap\n",
    "    elif (List[rootIndex] < List[leftIndex] or List[rootIndex] < List[rightIndex]) and (len(List) != rightIndex):\n",
    "        # Swap Left\n",
    "        if (List[leftIndex] > List[rightIndex]):\n",
    "            List[rootIndex] , List[leftIndex] = List[leftIndex] , List[rootIndex]\n",
    "            heapifyMax(List,leftIndex)\n",
    "        # Swap Right\n",
    "        elif (List[rightIndex] > List[leftIndex]):\n",
    "            List[rootIndex] , List[rightIndex] = List[rightIndex] , List[rootIndex]\n",
    "            heapifyMax(List,rightIndex)\n",
    "\n",
    "\n",
    "def build_max_heap(List):\n",
    "    for i in range((len(List)//2) - 1, -1, -1):\n",
    "        # print(i)\n",
    "        \"\"\"\n",
    "                i => root\n",
    "                / \\\n",
    "            left  right\n",
    "        Index Left  = (i * 2) + 1\n",
    "        Index Right = (i * 2) + 2\n",
    "        \"\"\"\n",
    "        heapifyMax(List, i)\n",
    "        print(List)\n",
    "\n"
   ]
  },
  {
   "cell_type": "code",
   "execution_count": null,
   "metadata": {},
   "outputs": [],
   "source": [
    "# Bottom-Up Heap Construction\n",
    "\n",
    "def heapifyMax(List,rootIndex):\n",
    "    leftIndex = (rootIndex * 2) + 1\n",
    "    rightIndex = (rootIndex * 2) + 2\n",
    "    # print(leftIndex, rightIndex)\n",
    "    if (len(List) <= leftIndex or len(List) <= rightIndex):\n",
    "        return\n",
    "    # Have Only Left\n",
    "    if (List[rootIndex] < List[leftIndex]) and (len(List) == rightIndex):\n",
    "        # Swap Left\n",
    "        List[rootIndex] , List[leftIndex] = List[leftIndex] , List[rootIndex]\n",
    "        heapifyMax(List,leftIndex)\n",
    "    # Can Swap\n",
    "    elif (List[rootIndex] < List[leftIndex] or List[rootIndex] < List[rightIndex]) and (len(List) != rightIndex):\n",
    "        # Swap Left\n",
    "        if (List[leftIndex] > List[rightIndex]):\n",
    "            List[rootIndex] , List[leftIndex] = List[leftIndex] , List[rootIndex]\n",
    "            heapifyMax(List,leftIndex)\n",
    "        # Swap Right\n",
    "        elif (List[rightIndex] > List[leftIndex]):\n",
    "            List[rootIndex] , List[rightIndex] = List[rightIndex] , List[rootIndex]\n",
    "            heapifyMax(List,rightIndex)\n",
    "\n",
    "\n",
    "def build_max_heap(List):\n",
    "    for i in range((len(List)//2) - 1, -1, -1):\n",
    "        # print(i)\n",
    "        \"\"\"\n",
    "                i => root\n",
    "                / \\\n",
    "            left  right\n",
    "        Index Left  = (i * 2) + 1\n",
    "        Index Right = (i * 2) + 2\n",
    "        \"\"\"\n",
    "        heapifyMax(List, i)\n",
    "        print(List)\n",
    "\n"
   ]
  },
  {
   "cell_type": "code",
   "execution_count": null,
   "metadata": {},
   "outputs": [],
   "source": [
    "A = [1, 12, 9, 5, 6, 10]\n",
    "build_max_heap(A)"
   ]
  },
  {
   "cell_type": "code",
   "execution_count": null,
   "metadata": {},
   "outputs": [],
   "source": [
    "A = [7, 4, 8, 2, 5, 3]\n",
    "build_max_heap(A)"
   ]
  },
  {
   "cell_type": "code",
   "execution_count": null,
   "metadata": {},
   "outputs": [],
   "source": [
    "# Chat GPT\n",
    "\n",
    "def heapify(arr, n, i):\n",
    "    largest = i  # Initialize largest as root\n",
    "    left = 2 * i + 1     # left = 2*i + 1\n",
    "    right = 2 * i + 2     # right = 2*i + 2\n",
    "\n",
    "    # If left child is larger than root\n",
    "    if left < n and arr[left] > arr[largest]:\n",
    "        largest = left\n",
    "\n",
    "    # If right child is larger than largest so far\n",
    "    if right < n and arr[right] > arr[largest]:\n",
    "        largest = right\n",
    "\n",
    "    # If largest is not root\n",
    "    if largest != i:\n",
    "        arr[i], arr[largest] = arr[largest], arr[i]  # Swap\n",
    "        # Recursively heapify the affected sub-tree\n",
    "        heapify(arr, n, largest)\n",
    "\n",
    "# Example usage:\n",
    "arr = [4, 10, 3, 5, 1]\n",
    "n = len(arr)\n",
    "\n",
    "# Build a max heap\n",
    "for i in range(n // 2 - 1, -1, -1):\n",
    "    heapify(arr, n, i)\n",
    "\n",
    "print(\"Max Heap:\", arr)  # Output: Max Heap: [10, 5, 3, 4, 1]\n"
   ]
  },
  {
   "cell_type": "markdown",
   "metadata": {},
   "source": [
    "# Write a function build_max_heap(A) that builds max heap."
   ]
  },
  {
   "cell_type": "code",
   "execution_count": null,
   "metadata": {},
   "outputs": [],
   "source": [
    "def heapifyMax(List, rootIndex):\n",
    "    indexOfMaxValue = rootIndex\n",
    "    leftIndex = (rootIndex * 2) + 1\n",
    "    rightIndex = (rootIndex * 2) + 2\n",
    "\n",
    "    if (leftIndex < len(List) and List[leftIndex] > List[indexOfMaxValue]):indexOfMaxValue = leftIndex\n",
    "    if (rightIndex < len(List) and List[rightIndex] > List[indexOfMaxValue]):indexOfMaxValue = rightIndex\n",
    "\n",
    "    if (indexOfMaxValue != rootIndex):\n",
    "        List[indexOfMaxValue] , List[rootIndex] = List[rootIndex] , List[indexOfMaxValue]\n",
    "        heapifyMax(List, indexOfMaxValue)\n",
    "\n",
    "def build_max_heap(List):\n",
    "    for i in range((len(List)//2) - 1, -1, -1):\n",
    "        # print(i)\n",
    "        \"\"\"\n",
    "                i => root\n",
    "                / \\\n",
    "            left  right\n",
    "        Index Left  = (i * 2) + 1\n",
    "        Index Right = (i * 2) + 2\n",
    "        \"\"\"\n",
    "        heapifyMax(List, i)\n",
    "        print(List)"
   ]
  },
  {
   "cell_type": "markdown",
   "metadata": {},
   "source": [
    "# Write a function build_min_heap(A) that builds min heap."
   ]
  },
  {
   "cell_type": "code",
   "execution_count": null,
   "metadata": {},
   "outputs": [],
   "source": [
    "def heapifyMin(List, rootIndex):\n",
    "    indexOfMinValue = rootIndex\n",
    "    leftIndex = (rootIndex * 2) + 1\n",
    "    rightIndex = (rootIndex * 2) + 2\n",
    "\n",
    "    if (leftIndex < len(List) and List[leftIndex] < List[indexOfMinValue]):indexOfMinValue = leftIndex\n",
    "    if (rightIndex < len(List) and List[rightIndex] < List[indexOfMinValue]):indexOfMinValue = rightIndex\n",
    "\n",
    "    if (indexOfMinValue != rootIndex):\n",
    "        List[indexOfMinValue] , List[rootIndex] = List[rootIndex] , List[indexOfMinValue]\n",
    "        heapifyMin(List, indexOfMinValue)\n",
    "\n",
    "def build_min_heap(List):\n",
    "    for i in range((len(List)//2) - 1, -1, -1):\n",
    "        # print(i)\n",
    "        \"\"\"\n",
    "                i => root\n",
    "                / \\\n",
    "            left  right\n",
    "        Index Left  = (i * 2) + 1\n",
    "        Index Right = (i * 2) + 2\n",
    "        \"\"\"\n",
    "        heapifyMin(List, i)\n",
    "        print(List)"
   ]
  },
  {
   "cell_type": "markdown",
   "metadata": {},
   "source": [
    "# Write a function heap_sort_asc(A) that sorts A in ascending order."
   ]
  },
  {
   "cell_type": "code",
   "execution_count": 131,
   "metadata": {},
   "outputs": [],
   "source": [
    "def heapifyMax(List, rootIndex):\n",
    "    indexOfMaxValue = rootIndex\n",
    "    leftIndex = (rootIndex * 2) + 1\n",
    "    rightIndex = (rootIndex * 2) + 2\n",
    "\n",
    "    if (leftIndex < len(List) and List[leftIndex] > List[indexOfMaxValue]):indexOfMaxValue = leftIndex\n",
    "    if (rightIndex < len(List) and List[rightIndex] > List[indexOfMaxValue]):indexOfMaxValue = rightIndex\n",
    "\n",
    "    if (indexOfMaxValue != rootIndex):\n",
    "        List[indexOfMaxValue] , List[rootIndex] = List[rootIndex] , List[indexOfMaxValue]\n",
    "        heapifyMax(List, indexOfMaxValue)\n",
    "\n",
    "def build_max_heap(List):\n",
    "    for i in range((len(List)//2) - 1, -1, -1):\n",
    "        # print(i)\n",
    "        \"\"\"\n",
    "                i => root\n",
    "                / \\\n",
    "            left  right\n",
    "        Index Left  = (i * 2) + 1\n",
    "        Index Right = (i * 2) + 2\n",
    "        \"\"\"\n",
    "        heapifyMax(List, i)\n",
    "        # print(List)\n",
    "\n",
    "def heap_sort_asc(List):\n",
    "    build_max_heap(List)\n",
    "    heap_sort = []\n",
    "    print(List)\n",
    "    for lastIndex in range(len(List) - 1, -1, -1):\n",
    "        # Swap\n",
    "        if List[lastIndex] < List[0]:\n",
    "            List[lastIndex] , List[0] = List[0] , List[lastIndex]\n",
    "            heap_sort.insert(0, List.pop())\n",
    "            heapifyMax(List,0)\n",
    "            print(List + heap_sort)\n"
   ]
  },
  {
   "cell_type": "code",
   "execution_count": 132,
   "metadata": {},
   "outputs": [
    {
     "name": "stdout",
     "output_type": "stream",
     "text": [
      "[12, 6, 10, 5, 1, 9]\n",
      "[10, 6, 9, 5, 1, 12]\n",
      "[9, 6, 1, 5, 10, 12]\n",
      "[6, 5, 1, 9, 10, 12]\n",
      "[5, 1, 6, 9, 10, 12]\n",
      "[1, 5, 6, 9, 10, 12]\n"
     ]
    }
   ],
   "source": [
    "A = [1, 12, 9, 5, 6, 10]\n",
    "heap_sort_asc(A)\n",
    "\n",
    "# [12, 6, 10, 5, 1, 9]\n",
    "# [10, 6, 9, 5, 1, 12]\n",
    "# [9, 6, 1, 5, 10, 12]\n",
    "# [6, 5, 1, 9, 10, 12]\n",
    "# [5, 1, 6, 9, 10, 12]\n",
    "# [1, 5, 6, 9, 10, 12]"
   ]
  },
  {
   "cell_type": "markdown",
   "metadata": {},
   "source": [
    "# Write a function heap_sort_desc(A) that sorts A in descending order."
   ]
  },
  {
   "cell_type": "code",
   "execution_count": 133,
   "metadata": {},
   "outputs": [],
   "source": [
    "def heapifyMin(List, rootIndex):\n",
    "    indexOfMinValue = rootIndex\n",
    "    leftIndex = (rootIndex * 2) + 1\n",
    "    rightIndex = (rootIndex * 2) + 2\n",
    "\n",
    "    if (leftIndex < len(List) and List[leftIndex] < List[indexOfMinValue]):indexOfMinValue = leftIndex\n",
    "    if (rightIndex < len(List) and List[rightIndex] < List[indexOfMinValue]):indexOfMinValue = rightIndex\n",
    "\n",
    "    if (indexOfMinValue != rootIndex):\n",
    "        List[indexOfMinValue] , List[rootIndex] = List[rootIndex] , List[indexOfMinValue]\n",
    "        heapifyMin(List, indexOfMinValue)\n",
    "\n",
    "def build_min_heap(List):\n",
    "    for i in range((len(List)//2) - 1, -1, -1):\n",
    "        \"\"\"\n",
    "                i => root\n",
    "                / \\\n",
    "            left  right\n",
    "        Index Left  = (i * 2) + 1\n",
    "        Index Right = (i * 2) + 2\n",
    "        \"\"\"\n",
    "        heapifyMin(List, i)\n",
    "\n",
    "def heap_sort_desc(List):\n",
    "    build_min_heap(List)\n",
    "    heap_sort = []\n",
    "    print(List)\n",
    "    for lastIndex in range(len(List) - 1, -1, -1):\n",
    "        if List[lastIndex] > List[0]:\n",
    "            List[lastIndex] , List[0] = List[0] , List[lastIndex]\n",
    "            heap_sort.insert(0, List.pop())\n",
    "            heapifyMin(List,0)\n",
    "            print(List + heap_sort)"
   ]
  },
  {
   "cell_type": "code",
   "execution_count": 134,
   "metadata": {},
   "outputs": [
    {
     "name": "stdout",
     "output_type": "stream",
     "text": [
      "[5, 6, 9, 12, 10, 1]\n",
      "[6, 10, 9, 12, 5, 1]\n",
      "[9, 10, 12, 6, 5, 1]\n",
      "[10, 12, 9, 6, 5, 1]\n",
      "[12, 10, 9, 6, 5, 1]\n"
     ]
    }
   ],
   "source": [
    "A = [1, 12, 9, 5, 6, 10]\n",
    "heap_sort_desc(A)"
   ]
  }
 ],
 "metadata": {
  "kernelspec": {
   "display_name": "base",
   "language": "python",
   "name": "python3"
  },
  "language_info": {
   "codemirror_mode": {
    "name": "ipython",
    "version": 3
   },
   "file_extension": ".py",
   "mimetype": "text/x-python",
   "name": "python",
   "nbconvert_exporter": "python",
   "pygments_lexer": "ipython3",
   "version": "3.10.9"
  }
 },
 "nbformat": 4,
 "nbformat_minor": 2
}
