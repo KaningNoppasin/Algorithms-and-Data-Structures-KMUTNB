{
 "cells": [
  {
   "cell_type": "markdown",
   "metadata": {},
   "source": [
    "<h1>ArrayStack</h1>"
   ]
  },
  {
   "cell_type": "code",
   "execution_count": 14,
   "metadata": {},
   "outputs": [],
   "source": [
    "class Empty(Exception):\n",
    "    \"\"\"Error attempting to access an element from an empty container.\"\"\"\n",
    "    pass\n",
    "\n",
    "class ArrayStack:\n",
    "    \"\"\"LIFO Stack implementation using a Python list as underlying storage.\"\"\"\n",
    "\n",
    "    def __init__(self):\n",
    "        \"\"\"Create an empty stack.\"\"\"\n",
    "        self._data = []\n",
    "        self._size = 0\n",
    "\n",
    "    def __len__(self):\n",
    "        \"\"\"Return the number of elements in the stack.\"\"\"\n",
    "        return self._size\n",
    "\n",
    "    def is_empty(self):\n",
    "        \"\"\"Return True if the stack is empty.\"\"\"\n",
    "        return self._size == 0\n",
    "\n",
    "    def push(self, e):\n",
    "        \"\"\"Add element e to the top of the stack.\"\"\"\n",
    "        self._data.append(e)\n",
    "        self._size += 1\n",
    "\n",
    "    def top(self):\n",
    "        \"\"\"Return (but do not remove) the element at the top of the stack.\n",
    "\n",
    "        Raise Empty exception if the stack is empty.\n",
    "        \"\"\"\n",
    "        if self.is_empty():\n",
    "            raise Empty(\"stack is empty\")\n",
    "        return self._data[-1]\n",
    "\n",
    "    def pop(self):\n",
    "        \"\"\"Remove and return the element from the top of the stack (i.e., LIFO).\n",
    "\n",
    "        Raise Empty exception if the stack is empty.\n",
    "        \"\"\"\n",
    "        if self.is_empty():\n",
    "            raise Empty(\"stack is empty\")\n",
    "        self._size -= 1\n",
    "        return self._data.pop()"
   ]
  },
  {
   "cell_type": "markdown",
   "metadata": {},
   "source": [
    "<h3>PostfixtoInfix</h3>"
   ]
  },
  {
   "cell_type": "code",
   "execution_count": 15,
   "metadata": {},
   "outputs": [],
   "source": [
    "def PostfixtoInfix(postfix_exp):\n",
    "    '''Convert prefix to postfix expression\n",
    "    Postfix: AB+\n",
    "    Infix: (A+B)\n",
    "    '''\n",
    "    operand = [chr(c) for c in range(ord('A'),ord('Z') + 1)] + [str(i) for i in range(0,10)]\n",
    "    operator = \"+-*/^\"\n",
    "    expressionStack = ArrayStack()\n",
    "\n",
    "    for item in postfix_exp:\n",
    "        if item in operand:\n",
    "            expressionStack.push(item)\n",
    "        elif item in operator:\n",
    "            fist_data = expressionStack.pop()\n",
    "            second_data = expressionStack.pop()\n",
    "            expressionStack.push(f\"({second_data}{item}{fist_data})\") #=> (A+B)\n",
    "    return expressionStack.pop()"
   ]
  },
  {
   "cell_type": "markdown",
   "metadata": {},
   "source": [
    "<h3>PrefixtoInfix</h3>"
   ]
  },
  {
   "cell_type": "code",
   "execution_count": 16,
   "metadata": {},
   "outputs": [],
   "source": [
    "def PrefixtoInfix(prefix_exp):\n",
    "    '''Convert prefix to prefix expression\n",
    "    Prefix: +AB\n",
    "    Infix: (A+B)\n",
    "    '''\n",
    "    operand = [chr(c) for c in range(ord('A'),ord('Z') + 1)] + [str(i) for i in range(0,10)]\n",
    "    operator = \"+-*/^\"\n",
    "    expressionStack = ArrayStack()\n",
    "\n",
    "    for item in prefix_exp[::-1]:\n",
    "        if item in operand:\n",
    "            expressionStack.push(item)\n",
    "        elif item in operator:\n",
    "            fist_data = expressionStack.pop()\n",
    "            second_data = expressionStack.pop()\n",
    "            expressionStack.push(f\"({fist_data}{item}{second_data})\") #=> (A+B)\n",
    "    return expressionStack.pop()"
   ]
  },
  {
   "cell_type": "markdown",
   "metadata": {},
   "source": [
    "<h3>PostfixEvaluation</h3>"
   ]
  },
  {
   "cell_type": "code",
   "execution_count": 17,
   "metadata": {},
   "outputs": [],
   "source": [
    "def PostfixEvaluation(postfix_exp):\n",
    "    '''Convert prefix to postfix expression\n",
    "    Postfix: AB+\n",
    "    Infix: (A+B)\n",
    "    '''\n",
    "    operand = [chr(c) for c in range(ord('A'),ord('Z') + 1)] + [str(i) for i in range(0,10)]\n",
    "    operator = \"+-*/^\"\n",
    "    expressionStack = ArrayStack()\n",
    "\n",
    "    for item in postfix_exp:\n",
    "        if item in operand:\n",
    "            expressionStack.push(item)\n",
    "        elif item in operator:\n",
    "            fist_data = expressionStack.pop()\n",
    "            second_data = expressionStack.pop()\n",
    "            expressionStack.push(f\"({second_data}{item}{fist_data})\") #=> (A+B)\n",
    "    return float(eval(expressionStack.pop()))"
   ]
  },
  {
   "cell_type": "markdown",
   "metadata": {},
   "source": [
    "<h3>PrefixEvaluation</h3>"
   ]
  },
  {
   "cell_type": "code",
   "execution_count": 18,
   "metadata": {},
   "outputs": [],
   "source": [
    "def PrefixEvaluation(prefix_exp):\n",
    "    '''Convert prefix to prefix expression\n",
    "    Prefix: +AB\n",
    "    Infix: (A+B)\n",
    "    '''\n",
    "    operand = [chr(c) for c in range(ord('A'),ord('Z') + 1)] + [str(i) for i in range(0,10)]\n",
    "    operator = \"+-*/^\"\n",
    "    expressionStack = ArrayStack()\n",
    "\n",
    "    for item in prefix_exp[::-1]:\n",
    "        if item in operand:\n",
    "            expressionStack.push(item)\n",
    "        elif item in operator:\n",
    "            fist_data = expressionStack.pop()\n",
    "            second_data = expressionStack.pop()\n",
    "            expressionStack.push(f\"({fist_data}{item}{second_data})\") #=> (A+B)\n",
    "    return float(eval(expressionStack.pop()))"
   ]
  },
  {
   "cell_type": "markdown",
   "metadata": {},
   "source": [
    "<h3>PostfixtoPrefix</h3>"
   ]
  },
  {
   "cell_type": "code",
   "execution_count": 19,
   "metadata": {},
   "outputs": [],
   "source": [
    "def PostfixtoPrefix(postfix_exp):\n",
    "    '''Convert postfix to prefix expression\n",
    "    Postfix: AB+\n",
    "    Prefix:  +AB\n",
    "    '''\n",
    "    operand = [chr(c) for c in range(ord('A'),ord('Z') + 1)] + [str(i) for i in range(0,10)]\n",
    "    operator = \"+-*/^\"\n",
    "    expressionStack = ArrayStack()\n",
    "\n",
    "    for item in postfix_exp:\n",
    "        if item in operand:\n",
    "            expressionStack.push(item)\n",
    "        elif item in operator:\n",
    "            fist_data = expressionStack.pop()\n",
    "            second_data = expressionStack.pop()\n",
    "            expressionStack.push(f\"({item}{second_data}{fist_data})\") #=> +AB\n",
    "    return expressionStack.pop()"
   ]
  },
  {
   "cell_type": "markdown",
   "metadata": {},
   "source": [
    "<h3>PrefixtoPostfix</h3>"
   ]
  },
  {
   "cell_type": "code",
   "execution_count": 20,
   "metadata": {},
   "outputs": [],
   "source": [
    "def PrefixtoPostfix(prefix_exp):\n",
    "    '''Convert prefix to postfix expression\n",
    "    Prefix:  +AB\n",
    "    Postfix: AB+\n",
    "    '''\n",
    "    operand = [chr(c) for c in range(ord('A'),ord('Z') + 1)] + [str(i) for i in range(0,10)]\n",
    "    operator = \"+-*/^\"\n",
    "    expressionStack = ArrayStack()\n",
    "\n",
    "    for item in prefix_exp[::-1]:\n",
    "        if item in operand:\n",
    "            expressionStack.push(item)\n",
    "        elif item in operator:\n",
    "            fist_data = expressionStack.pop()\n",
    "            second_data = expressionStack.pop()\n",
    "            expressionStack.push(f\"({fist_data}{second_data}{item})\") #=> AB+\n",
    "    return expressionStack.pop()"
   ]
  },
  {
   "cell_type": "markdown",
   "metadata": {},
   "source": [
    "<h2>Test Case</h2>"
   ]
  },
  {
   "cell_type": "code",
   "execution_count": 61,
   "metadata": {},
   "outputs": [
    {
     "name": "stdout",
     "output_type": "stream",
     "text": [
      "PostfixtoInfix => : AB+ => : (A+B)\n",
      "PostfixtoInfix => : 35*89-+ => : ((3*5)+(8-9))\n",
      "PostfixEvaluation => : 35*89-+ => : 14.0\n",
      "----------------------------------------------------------------------------------------------------\n",
      "PrefixtoInfix => : +AB => : (A+B)\n",
      "PrefixtoInfix C => : ++AB-C-DE => : ((A+B)+(C-(D-E)))\n",
      "PrefixtoInfix => : +-*3589 => : (((3*5)-8)+9)\n",
      "PrefixEvaluation => : +-*3589 => : 16.0\n"
     ]
    }
   ],
   "source": [
    "expression_postfix_A = 'AB+'\n",
    "expression_prefix_A = '+AB'\n",
    "\n",
    "expression_postfix_B = '35*89-+'\n",
    "expression_prefix_B = '+-*3589'\n",
    "expression_prefix_C = '++AB-C-DE'\n",
    "\n",
    "print(\"PostfixtoInfix\",expression_postfix_A,PostfixtoInfix(expression_postfix_A),sep=\" => : \")\n",
    "print(\"PostfixtoInfix\",expression_postfix_B,PostfixtoInfix(expression_postfix_B),sep=\" => : \")\n",
    "print(\"PostfixEvaluation\",expression_postfix_B,PostfixEvaluation(expression_postfix_B),sep=\" => : \")\n",
    "\n",
    "print('-'*100)\n",
    "\n",
    "print(\"PrefixtoInfix\",expression_prefix_A,PrefixtoInfix(expression_prefix_A),sep=\" => : \")\n",
    "print(\"PrefixtoInfix C\",expression_prefix_C,PrefixtoInfix(expression_prefix_C),sep=\" => : \")\n",
    "print(\"PrefixtoInfix\",expression_prefix_B,PrefixtoInfix(expression_prefix_B),sep=\" => : \")\n",
    "print(\"PrefixEvaluation\",expression_prefix_B,PrefixEvaluation(expression_prefix_B),sep=\" => : \")\n",
    "\n",
    "\n"
   ]
  },
  {
   "cell_type": "markdown",
   "metadata": {},
   "source": [
    "<h3>InfixtoPostfix</h3>"
   ]
  },
  {
   "cell_type": "code",
   "execution_count": 51,
   "metadata": {},
   "outputs": [
    {
     "name": "stdout",
     "output_type": "stream",
     "text": [
      "BA+\n"
     ]
    }
   ],
   "source": [
    "def getValueOfOperator(operator_key):\n",
    "    operator_dict = {\n",
    "        '+' : 1,\n",
    "        '-' : 1,\n",
    "        '*' : 2,\n",
    "        '/' : 2\n",
    "    }\n",
    "    return operator_dict.get(operator_key,0)\n",
    "\n",
    "def InfixtoPostfix(infix_exp):\n",
    "    '''Convert prefix to prefix expression\n",
    "    Infix: (A+B)\n",
    "    Postfix: AB+\n",
    "    '''\n",
    "    operand = [chr(c) for c in range(ord('A'),ord('Z') + 1)] + [str(i) for i in range(0,10)]\n",
    "    operator = \"+-*/^\"\n",
    "    operatorStack = ArrayStack()\n",
    "    expressionStack = ArrayStack()\n",
    "\n",
    "    for item in infix_exp:\n",
    "        if item in operand:\n",
    "            expressionStack.push(item)\n",
    "        elif item in operator:\n",
    "            if not operatorStack.is_empty():\n",
    "                while getValueOfOperator(operatorStack.top()) >= getValueOfOperator(item) and not operatorStack.is_empty():\n",
    "                    expressionStack.push(operatorStack.pop())\n",
    "            operatorStack.push(item)\n",
    "        elif item == \"(\":\n",
    "            operatorStack.push(item)\n",
    "        elif item == \")\":\n",
    "            while operatorStack.top() != '(' and not operatorStack.is_empty():\n",
    "                expressionStack.push(operatorStack.pop())\n",
    "            operatorStack.pop()\n",
    "\n",
    "    return ''.join(expressionStack._data)\n",
    "print(InfixtoPostfix('(B+A)'))"
   ]
  },
  {
   "cell_type": "code",
   "execution_count": 28,
   "metadata": {},
   "outputs": [
    {
     "name": "stdout",
     "output_type": "stream",
     "text": [
      "1\n",
      "1\n"
     ]
    }
   ],
   "source": [
    "operator_dict = {\n",
    "        '+' : 1,\n",
    "        '-' : 1,\n",
    "        '*' : 2,\n",
    "        '/' : 2\n",
    "    }\n",
    "print(operator_dict['+'])\n",
    "print(operator_dict.get('+',0))"
   ]
  },
  {
   "cell_type": "markdown",
   "metadata": {},
   "source": [
    "<h3>InfixtoPrefix</h3>"
   ]
  },
  {
   "cell_type": "code",
   "execution_count": 60,
   "metadata": {},
   "outputs": [
    {
     "name": "stdout",
     "output_type": "stream",
     "text": [
      "+BA\n"
     ]
    }
   ],
   "source": [
    "def getValueOfOperator(operator_key):\n",
    "    operator_dict = {\n",
    "        '+' : 1,\n",
    "        '-' : 1,\n",
    "        '*' : 2,\n",
    "        '/' : 2\n",
    "    }\n",
    "    return operator_dict.get(operator_key,0)\n",
    "\n",
    "def InfixtoPrefix(infix_exp):\n",
    "    '''Convert prefix to prefix expression\n",
    "    Infix: (A+B)\n",
    "    Prefix: +AB\n",
    "    '''\n",
    "    operand = [chr(c) for c in range(ord('A'),ord('Z') + 1)] + [str(i) for i in range(0,10)]\n",
    "    operator = \"+-*/^\"\n",
    "    expressionStack = ArrayStack()\n",
    "    operatorStack = ArrayStack()\n",
    "\n",
    "    for item in infix_exp[::-1]:\n",
    "        if item in operand:\n",
    "            expressionStack.push(item)\n",
    "        elif item in operator:\n",
    "            if not operatorStack.is_empty():\n",
    "                while (getValueOfOperator(operatorStack.top()) >= getValueOfOperator(item)) and not operatorStack.is_empty():\n",
    "                    expressionStack.push(item)\n",
    "            operatorStack.push(item)\n",
    "        elif item == ')':\n",
    "            operatorStack.push(item)\n",
    "        elif item == '(':\n",
    "            while not operatorStack.is_empty() and operatorStack.top() != ')':\n",
    "                    expressionStack.push(operatorStack.pop())\n",
    "            operatorStack.pop()\n",
    "    return ''.join(expressionStack._data)[::-1]\n",
    "print(InfixtoPrefix('(B+A)'))\n"
   ]
  }
 ],
 "metadata": {
  "kernelspec": {
   "display_name": "base",
   "language": "python",
   "name": "python3"
  },
  "language_info": {
   "codemirror_mode": {
    "name": "ipython",
    "version": 3
   },
   "file_extension": ".py",
   "mimetype": "text/x-python",
   "name": "python",
   "nbconvert_exporter": "python",
   "pygments_lexer": "ipython3",
   "version": "3.10.9"
  }
 },
 "nbformat": 4,
 "nbformat_minor": 2
}
