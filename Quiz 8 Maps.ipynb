{
 "cells": [
  {
   "cell_type": "markdown",
   "metadata": {},
   "source": [
    "# Write a function poly_hash_code(x, a) that maps key to an integer using polynomial hash code where x is a character string and a is a nonzero constant."
   ]
  },
  {
   "cell_type": "markdown",
   "metadata": {},
   "source": [
    "<img src=\"./Picture Quiz 8 Maps/1_Quiz 8 Maps.png\" style=\"width:65%;hight:65%\">"
   ]
  },
  {
   "cell_type": "code",
   "execution_count": 16,
   "metadata": {},
   "outputs": [],
   "source": [
    "def poly_hash_code(character, a):\n",
    "    result = 0\n",
    "    for (position, c) in enumerate(character):\n",
    "        result += ord(c) * a**(len(character) - position - 1)\n",
    "    return result"
   ]
  },
  {
   "cell_type": "code",
   "execution_count": 17,
   "metadata": {},
   "outputs": [
    {
     "name": "stdout",
     "output_type": "stream",
     "text": [
      "500\n",
      "2719\n",
      "89137236\n"
     ]
    }
   ],
   "source": [
    "print(poly_hash_code(\"Hello\", 1))\n",
    "print(poly_hash_code(\"Hello\", 2))\n",
    "print(poly_hash_code(\"Hello\", 33))"
   ]
  },
  {
   "cell_type": "code",
   "execution_count": 18,
   "metadata": {},
   "outputs": [
    {
     "name": "stdout",
     "output_type": "stream",
     "text": [
      "535\n",
      "535\n"
     ]
    }
   ],
   "source": [
    "print(poly_hash_code(\"temp01\", 1))\n",
    "print(poly_hash_code(\"temp10\", 1))"
   ]
  },
  {
   "cell_type": "code",
   "execution_count": 19,
   "metadata": {},
   "outputs": [
    {
     "name": "stdout",
     "output_type": "stream",
     "text": [
      "8238865603\n",
      "8238865639\n"
     ]
    }
   ],
   "source": [
    "print(poly_hash_code(\"temp01\", 37))\n",
    "print(poly_hash_code(\"temp10\", 37))"
   ]
  },
  {
   "cell_type": "markdown",
   "metadata": {},
   "source": [
    "# Modify the implementation of the hash_function to use polynomial hash code (using a = 33)."
   ]
  },
  {
   "cell_type": "markdown",
   "metadata": {},
   "source": [
    "<img src=\"./Picture Quiz 8 Maps/2_Quiz 8 Maps.png\" style=\"width:65%;hight:65%\">"
   ]
  },
  {
   "cell_type": "code",
   "execution_count": 20,
   "metadata": {},
   "outputs": [],
   "source": [
    "class HashTable:\n",
    "    def __init__(self):\n",
    "        self.size = 11\n",
    "        self.slots = [None] * self.size\n",
    "        self.data = [None] * self.size\n",
    "\n",
    "    def put(self, key, data):\n",
    "        hash_value = self.hash_function(key, len(self.slots))\n",
    "\n",
    "        if self.slots[hash_value] is None:\n",
    "            self.slots[hash_value] = key\n",
    "            self.data[hash_value] = data\n",
    "        else:\n",
    "            if self.slots[hash_value] == key:\n",
    "                self.data[hash_value] = data  # replace\n",
    "            else:\n",
    "                next_slot = self.rehash(hash_value, len(self.slots))\n",
    "                while (\n",
    "                    self.slots[next_slot] is not None\n",
    "                    and self.slots[next_slot] != key\n",
    "                ):\n",
    "                    next_slot = self.rehash(next_slot, len(self.slots))\n",
    "\n",
    "                if self.slots[next_slot] is None:\n",
    "                    self.slots[next_slot] = key\n",
    "                    self.data[next_slot] = data\n",
    "                else:\n",
    "                    self.data[next_slot] = data\n",
    "    # ! add this function\n",
    "    def poly_hash_code(self,character, a = 33):\n",
    "        result = 0\n",
    "        for (position, c) in enumerate(character):\n",
    "            result += ord(c) * a**(len(character) - position - 1)\n",
    "        return result\n",
    "\n",
    "    # ! fix retune value\n",
    "    def hash_function(self, key, size):\n",
    "        return self.poly_hash_code(key) % size\n",
    "        # return key % size\n",
    "\n",
    "    def rehash(self, old_hash, size):\n",
    "        return (old_hash + 1) % size\n",
    "\n",
    "    def get(self, key):\n",
    "        start_slot = self.hash_function(key, len(self.slots))\n",
    "\n",
    "        position = start_slot\n",
    "        while self.slots[position] is not None:\n",
    "            if self.slots[position] == key:\n",
    "                return self.data[position]\n",
    "            else:\n",
    "                position = self.rehash(position, len(self.slots))\n",
    "                if position == start_slot:\n",
    "                    return None\n",
    "\n",
    "    def __getitem__(self, key):\n",
    "        return self.get(key)\n",
    "\n",
    "    def __setitem__(self, key, data):\n",
    "        self.put(key, data)"
   ]
  },
  {
   "cell_type": "code",
   "execution_count": 21,
   "metadata": {},
   "outputs": [
    {
     "name": "stdout",
     "output_type": "stream",
     "text": [
      "['B', None, None, None, None, None, None, None, 'U', 'K', 'V']\n",
      "[4, None, None, None, None, None, None, None, 2, 9, 8]\n"
     ]
    }
   ],
   "source": [
    "h = HashTable()\n",
    "h[\"K\"] = 2\n",
    "h[\"B\"] = 4\n",
    "h[\"U\"] = 2\n",
    "h[\"V\"] = 8\n",
    "h[\"K\"] = 9\n",
    "print(h.slots)\n",
    "print(h.data)"
   ]
  },
  {
   "cell_type": "code",
   "execution_count": 22,
   "metadata": {},
   "outputs": [
    {
     "name": "stdout",
     "output_type": "stream",
     "text": [
      "[None, None, 'stop', None, None, 'tops', 'pots', 'spot', None, None, None]\n",
      "[None, None, 1, None, None, 2, 3, 4, None, None, None]\n"
     ]
    }
   ],
   "source": [
    "h = HashTable()\n",
    "h[\"stop\"] = 1\n",
    "h[\"tops\"] = 2\n",
    "h[\"pots\"] = 3\n",
    "h[\"spot\"] = 4\n",
    "print(h.slots)\n",
    "print(h.data)"
   ]
  },
  {
   "cell_type": "markdown",
   "metadata": {},
   "source": [
    "# Modify the implementation of the hash_function to use cyclic-shift hash code (using 5-bit shift)."
   ]
  },
  {
   "cell_type": "markdown",
   "metadata": {},
   "source": [
    "<img src=\"./Picture Quiz 8 Maps/3_Quiz 8 Maps.png\" style=\"width:65%;hight:65%\">"
   ]
  },
  {
   "cell_type": "code",
   "execution_count": 23,
   "metadata": {},
   "outputs": [],
   "source": [
    "class HashTable:\n",
    "    def __init__(self):\n",
    "        self.size = 11\n",
    "        self.slots = [None] * self.size\n",
    "        self.data = [None] * self.size\n",
    "\n",
    "    def put(self, key, data):\n",
    "        hash_value = self.hash_function(key, len(self.slots))\n",
    "\n",
    "        if self.slots[hash_value] is None:\n",
    "            self.slots[hash_value] = key\n",
    "            self.data[hash_value] = data\n",
    "        else:\n",
    "            if self.slots[hash_value] == key:\n",
    "                self.data[hash_value] = data  # replace\n",
    "            else:\n",
    "                next_slot = self.rehash(hash_value, len(self.slots))\n",
    "                while (\n",
    "                    self.slots[next_slot] is not None\n",
    "                    and self.slots[next_slot] != key\n",
    "                ):\n",
    "                    next_slot = self.rehash(next_slot, len(self.slots))\n",
    "\n",
    "                if self.slots[next_slot] is None:\n",
    "                    self.slots[next_slot] = key\n",
    "                    self.data[next_slot] = data\n",
    "                else:\n",
    "                    self.data[next_slot] = data\n",
    "\n",
    "    # ! add this function\n",
    "    def CyclicShiftHashCode(self, s):\n",
    "        mask = (1 << 32) - 1                    # limit to 32-bit integers\n",
    "        h = 0\n",
    "        for character in s:\n",
    "            h = (h << 5 & mask) | (h >> 27)     # 5-bit cyclic shift of running sum\n",
    "            h += ord(character)                 # add in value of next character\n",
    "        return h\n",
    "\n",
    "    # ! fix retune value\n",
    "    def hash_function(self, key, size):\n",
    "        return (self.CyclicShiftHashCode(key)) % size\n",
    "        # return key % size\n",
    "\n",
    "    def rehash(self, old_hash, size):\n",
    "        return (old_hash + 1) % size\n",
    "\n",
    "    def get(self, key):\n",
    "        start_slot = self.hash_function(key, len(self.slots))\n",
    "\n",
    "        position = start_slot\n",
    "        while self.slots[position] is not None:\n",
    "            if self.slots[position] == key:\n",
    "                return self.data[position]\n",
    "            else:\n",
    "                position = self.rehash(position, len(self.slots))\n",
    "                if position == start_slot:\n",
    "                    return None\n",
    "\n",
    "    def __getitem__(self, key):\n",
    "        return self.get(key)\n",
    "\n",
    "    def __setitem__(self, key, data):\n",
    "        self.put(key, data)"
   ]
  },
  {
   "cell_type": "code",
   "execution_count": 24,
   "metadata": {},
   "outputs": [
    {
     "name": "stdout",
     "output_type": "stream",
     "text": [
      "['B', None, None, None, None, None, None, None, 'U', 'K', 'V']\n",
      "[4, None, None, None, None, None, None, None, 2, 9, 8]\n"
     ]
    }
   ],
   "source": [
    "h = HashTable()\n",
    "h[\"K\"] = 2\n",
    "h[\"B\"] = 4\n",
    "h[\"U\"] = 2\n",
    "h[\"V\"] = 8\n",
    "h[\"K\"] = 9\n",
    "print(h.slots)\n",
    "print(h.data)"
   ]
  },
  {
   "cell_type": "code",
   "execution_count": 25,
   "metadata": {},
   "outputs": [
    {
     "name": "stdout",
     "output_type": "stream",
     "text": [
      "[None, None, 'stop', 'spot', None, None, None, None, None, 'tops', 'pots']\n",
      "[None, None, 1, 4, None, None, None, None, None, 2, 3]\n"
     ]
    }
   ],
   "source": [
    "h = HashTable()\n",
    "h[\"stop\"] = 1\n",
    "h[\"tops\"] = 2\n",
    "h[\"pots\"] = 3\n",
    "h[\"spot\"] = 4\n",
    "print(h.slots)\n",
    "print(h.data)"
   ]
  },
  {
   "cell_type": "markdown",
   "metadata": {},
   "source": [
    "# Modify the implementation of the rehash to use double hashing."
   ]
  },
  {
   "cell_type": "markdown",
   "metadata": {},
   "source": [
    "<img src=\"./Picture Quiz 8 Maps/4_Quiz 8 Maps.png\" style=\"width:65%;hight:65%\">"
   ]
  },
  {
   "cell_type": "code",
   "execution_count": 26,
   "metadata": {},
   "outputs": [],
   "source": [
    "class HashTable:\n",
    "    def __init__(self):\n",
    "        self.size = 11\n",
    "        self.slots = [None] * self.size\n",
    "        self.data = [None] * self.size\n",
    "\n",
    "    def put(self, key, data):\n",
    "        hash_value = self.hash_function(key, len(self.slots))\n",
    "\n",
    "        if self.slots[hash_value] is None:\n",
    "            self.slots[hash_value] = key\n",
    "            self.data[hash_value] = data\n",
    "        else:\n",
    "            if self.slots[hash_value] == key:\n",
    "                self.data[hash_value] = data  # replace\n",
    "            else:\n",
    "                #\n",
    "                # H2(70) = 8 - ( 70 % 8 )\n",
    "                self.temp_hash_value = hash_value\n",
    "                hash_value = self.H2(key)\n",
    "                self.rehash_round = 1\n",
    "\n",
    "                next_slot = self.rehash(hash_value, len(self.slots))\n",
    "                while (\n",
    "                    self.slots[next_slot] is not None\n",
    "                    and self.slots[next_slot] != key\n",
    "                ):\n",
    "                    self.rehash_round += 1 # => new round\n",
    "                    next_slot = self.rehash(hash_value, len(self.slots))\n",
    "                    # next_slot = self.rehash(next_slot, len(self.slots))\n",
    "\n",
    "                if self.slots[next_slot] is None:\n",
    "                    self.slots[next_slot] = key\n",
    "                    self.data[next_slot] = data\n",
    "                else:\n",
    "                    self.data[next_slot] = data\n",
    "\n",
    "    def hash_function(self, key, size):\n",
    "        return key % size\n",
    "\n",
    "    # H2(70) = 8 - ( 70 % 8 )\n",
    "    # H2(key) = 8 - ( key % 8)\n",
    "    def H2(self,key):\n",
    "        return 8 - ( key % 8 )\n",
    "\n",
    "    # (4 + 1 * 2) % 11\n",
    "    # ( H1 + rehash_round * H2 ) % size\n",
    "    def rehash(self, old_hash, size):\n",
    "        return (self.temp_hash_value + self.rehash_round * old_hash) % size\n",
    "        # return (old_hash + 1) % size\n",
    "\n",
    "    def get(self, key):\n",
    "        start_slot = self.hash_function(key, len(self.slots))\n",
    "\n",
    "        position = start_slot\n",
    "        while self.slots[position] is not None:\n",
    "            if self.slots[position] == key:\n",
    "                return self.data[position]\n",
    "            else:\n",
    "                position = self.rehash(position, len(self.slots))\n",
    "                if position == start_slot:\n",
    "                    return None\n",
    "\n",
    "    def __getitem__(self, key):\n",
    "        return self.get(key)\n",
    "\n",
    "    def __setitem__(self, key, data):\n",
    "        self.put(key, data)\n",
    "\n",
    "    def hash_code(s):\n",
    "        mask = ( 1 << 32 ) - 1\n",
    "        h = 0\n",
    "        for character in s:\n",
    "            h = ( h << 5 & mask ) | ( h >> 27 )\n",
    "            h += ord(character)\n",
    "        return h"
   ]
  },
  {
   "cell_type": "code",
   "execution_count": 27,
   "metadata": {},
   "outputs": [
    {
     "name": "stdout",
     "output_type": "stream",
     "text": [
      "[None, 34, None, 56, 45, None, 70, None, None, 20, None]\n",
      "[None, 2, None, 5, 3, None, 4, None, None, 1, None]\n"
     ]
    }
   ],
   "source": [
    "h = HashTable()\n",
    "h[20] = 1\n",
    "h[34] = 2\n",
    "h[45] = 3\n",
    "h[70] = 4\n",
    "h[56] = 5\n",
    "print(h.slots)\n",
    "print(h.data)"
   ]
  },
  {
   "cell_type": "code",
   "execution_count": 28,
   "metadata": {},
   "outputs": [
    {
     "name": "stdout",
     "output_type": "stream",
     "text": [
      "[77, 55, 20, None, 26, 93, 17, None, 44, 31, 54]\n",
      "['bird', 'pig', 'chicken', None, 'dog', 'lion', 'tiger', None, 'goat', 'cow', 'cat']\n"
     ]
    }
   ],
   "source": [
    "h = HashTable()\n",
    "h[54] = \"cat\"\n",
    "h[26] = \"dog\"\n",
    "h[93] = \"lion\"\n",
    "h[17] = \"tiger\"\n",
    "h[77] = \"bird\"\n",
    "h[31] = \"cow\"\n",
    "h[44] = \"goat\"\n",
    "h[55] = \"pig\"\n",
    "h[20] = \"chicken\"\n",
    "print(h.slots)\n",
    "print(h.data)"
   ]
  }
 ],
 "metadata": {
  "kernelspec": {
   "display_name": "base",
   "language": "python",
   "name": "python3"
  },
  "language_info": {
   "codemirror_mode": {
    "name": "ipython",
    "version": 3
   },
   "file_extension": ".py",
   "mimetype": "text/x-python",
   "name": "python",
   "nbconvert_exporter": "python",
   "pygments_lexer": "ipython3",
   "version": "3.10.9"
  }
 },
 "nbformat": 4,
 "nbformat_minor": 2
}
