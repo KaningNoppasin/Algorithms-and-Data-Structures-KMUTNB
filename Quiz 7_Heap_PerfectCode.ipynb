{
 "cells": [
  {
   "cell_type": "markdown",
   "metadata": {},
   "source": [
    "# Write a function build_max_heap(A) that builds max heap."
   ]
  },
  {
   "cell_type": "code",
   "execution_count": null,
   "metadata": {},
   "outputs": [],
   "source": [
    "def heapifyMax(List, rootIndex):\n",
    "    indexOfMaxValue = rootIndex\n",
    "    leftIndex = (rootIndex * 2) + 1\n",
    "    rightIndex = (rootIndex * 2) + 2\n",
    "\n",
    "    if (leftIndex < len(List) and List[leftIndex] > List[indexOfMaxValue]):indexOfMaxValue = leftIndex\n",
    "    if (rightIndex < len(List) and List[rightIndex] > List[indexOfMaxValue]):indexOfMaxValue = rightIndex\n",
    "\n",
    "    if (indexOfMaxValue != rootIndex):\n",
    "        List[indexOfMaxValue] , List[rootIndex] = List[rootIndex] , List[indexOfMaxValue]\n",
    "        heapifyMax(List, indexOfMaxValue)\n",
    "\n",
    "def build_max_heap(List):\n",
    "    for i in range((len(List)//2) - 1, -1, -1):\n",
    "        # print(i)\n",
    "        \"\"\"\n",
    "                i => root\n",
    "                / \\\n",
    "            left  right\n",
    "        Index Left  = (i * 2) + 1\n",
    "        Index Right = (i * 2) + 2\n",
    "        \"\"\"\n",
    "        heapifyMax(List, i)\n",
    "        print(List)"
   ]
  },
  {
   "cell_type": "markdown",
   "metadata": {},
   "source": [
    "# Write a function build_min_heap(A) that builds min heap."
   ]
  },
  {
   "cell_type": "code",
   "execution_count": null,
   "metadata": {},
   "outputs": [],
   "source": [
    "def heapifyMin(List, rootIndex):\n",
    "    indexOfMinValue = rootIndex\n",
    "    leftIndex = (rootIndex * 2) + 1\n",
    "    rightIndex = (rootIndex * 2) + 2\n",
    "\n",
    "    if (leftIndex < len(List) and List[leftIndex] < List[indexOfMinValue]):indexOfMinValue = leftIndex\n",
    "    if (rightIndex < len(List) and List[rightIndex] < List[indexOfMinValue]):indexOfMinValue = rightIndex\n",
    "\n",
    "    if (indexOfMinValue != rootIndex):\n",
    "        List[indexOfMinValue] , List[rootIndex] = List[rootIndex] , List[indexOfMinValue]\n",
    "        heapifyMin(List, indexOfMinValue)\n",
    "\n",
    "def build_min_heap(List):\n",
    "    for i in range((len(List)//2) - 1, -1, -1):\n",
    "        # print(i)\n",
    "        \"\"\"\n",
    "                i => root\n",
    "                / \\\n",
    "            left  right\n",
    "        Index Left  = (i * 2) + 1\n",
    "        Index Right = (i * 2) + 2\n",
    "        \"\"\"\n",
    "        heapifyMin(List, i)\n",
    "        print(List)"
   ]
  },
  {
   "cell_type": "markdown",
   "metadata": {},
   "source": [
    "# Write a function heap_sort_asc(A) that sorts A in ascending order."
   ]
  },
  {
   "cell_type": "code",
   "execution_count": 131,
   "metadata": {},
   "outputs": [],
   "source": [
    "def heapifyMax(List, rootIndex):\n",
    "    indexOfMaxValue = rootIndex\n",
    "    leftIndex = (rootIndex * 2) + 1\n",
    "    rightIndex = (rootIndex * 2) + 2\n",
    "\n",
    "    if (leftIndex < len(List) and List[leftIndex] > List[indexOfMaxValue]):indexOfMaxValue = leftIndex\n",
    "    if (rightIndex < len(List) and List[rightIndex] > List[indexOfMaxValue]):indexOfMaxValue = rightIndex\n",
    "\n",
    "    if (indexOfMaxValue != rootIndex):\n",
    "        List[indexOfMaxValue] , List[rootIndex] = List[rootIndex] , List[indexOfMaxValue]\n",
    "        heapifyMax(List, indexOfMaxValue)\n",
    "\n",
    "def build_max_heap(List):\n",
    "    for i in range((len(List)//2) - 1, -1, -1):\n",
    "        # print(i)\n",
    "        \"\"\"\n",
    "                i => root\n",
    "                / \\\n",
    "            left  right\n",
    "        Index Left  = (i * 2) + 1\n",
    "        Index Right = (i * 2) + 2\n",
    "        \"\"\"\n",
    "        heapifyMax(List, i)\n",
    "        # print(List)\n",
    "\n",
    "def heap_sort_asc(List):\n",
    "    build_max_heap(List)\n",
    "    heap_sort = []\n",
    "    print(List)\n",
    "    for lastIndex in range(len(List) - 1, -1, -1):\n",
    "        # Swap\n",
    "        if List[lastIndex] < List[0]:\n",
    "            List[lastIndex] , List[0] = List[0] , List[lastIndex]\n",
    "            heap_sort.insert(0, List.pop())\n",
    "            heapifyMax(List,0)\n",
    "            print(List + heap_sort)\n"
   ]
  },
  {
   "cell_type": "code",
   "execution_count": 132,
   "metadata": {},
   "outputs": [
    {
     "name": "stdout",
     "output_type": "stream",
     "text": [
      "[12, 6, 10, 5, 1, 9]\n",
      "[10, 6, 9, 5, 1, 12]\n",
      "[9, 6, 1, 5, 10, 12]\n",
      "[6, 5, 1, 9, 10, 12]\n",
      "[5, 1, 6, 9, 10, 12]\n",
      "[1, 5, 6, 9, 10, 12]\n"
     ]
    }
   ],
   "source": [
    "A = [1, 12, 9, 5, 6, 10]\n",
    "heap_sort_asc(A)\n",
    "\n",
    "# [12, 6, 10, 5, 1, 9]\n",
    "# [10, 6, 9, 5, 1, 12]\n",
    "# [9, 6, 1, 5, 10, 12]\n",
    "# [6, 5, 1, 9, 10, 12]\n",
    "# [5, 1, 6, 9, 10, 12]\n",
    "# [1, 5, 6, 9, 10, 12]"
   ]
  },
  {
   "cell_type": "markdown",
   "metadata": {},
   "source": [
    "# Write a function heap_sort_desc(A) that sorts A in descending order."
   ]
  },
  {
   "cell_type": "code",
   "execution_count": 133,
   "metadata": {},
   "outputs": [],
   "source": [
    "def heapifyMin(List, rootIndex):\n",
    "    indexOfMinValue = rootIndex\n",
    "    leftIndex = (rootIndex * 2) + 1\n",
    "    rightIndex = (rootIndex * 2) + 2\n",
    "\n",
    "    if (leftIndex < len(List) and List[leftIndex] < List[indexOfMinValue]):indexOfMinValue = leftIndex\n",
    "    if (rightIndex < len(List) and List[rightIndex] < List[indexOfMinValue]):indexOfMinValue = rightIndex\n",
    "\n",
    "    if (indexOfMinValue != rootIndex):\n",
    "        List[indexOfMinValue] , List[rootIndex] = List[rootIndex] , List[indexOfMinValue]\n",
    "        heapifyMin(List, indexOfMinValue)\n",
    "\n",
    "def build_min_heap(List):\n",
    "    for i in range((len(List)//2) - 1, -1, -1):\n",
    "        \"\"\"\n",
    "                i => root\n",
    "                / \\\n",
    "            left  right\n",
    "        Index Left  = (i * 2) + 1\n",
    "        Index Right = (i * 2) + 2\n",
    "        \"\"\"\n",
    "        heapifyMin(List, i)\n",
    "\n",
    "def heap_sort_desc(List):\n",
    "    build_min_heap(List)\n",
    "    heap_sort = []\n",
    "    print(List)\n",
    "    for lastIndex in range(len(List) - 1, -1, -1):\n",
    "        if List[lastIndex] > List[0]:\n",
    "            List[lastIndex] , List[0] = List[0] , List[lastIndex]\n",
    "            heap_sort.insert(0, List.pop())\n",
    "            heapifyMin(List,0)\n",
    "            print(List + heap_sort)"
   ]
  },
  {
   "cell_type": "code",
   "execution_count": 134,
   "metadata": {},
   "outputs": [
    {
     "name": "stdout",
     "output_type": "stream",
     "text": [
      "[5, 6, 9, 12, 10, 1]\n",
      "[6, 10, 9, 12, 5, 1]\n",
      "[9, 10, 12, 6, 5, 1]\n",
      "[10, 12, 9, 6, 5, 1]\n",
      "[12, 10, 9, 6, 5, 1]\n"
     ]
    }
   ],
   "source": [
    "A = [1, 12, 9, 5, 6, 10]\n",
    "heap_sort_desc(A)"
   ]
  }
 ],
 "metadata": {
  "kernelspec": {
   "display_name": "base",
   "language": "python",
   "name": "python3"
  },
  "language_info": {
   "codemirror_mode": {
    "name": "ipython",
    "version": 3
   },
   "file_extension": ".py",
   "mimetype": "text/x-python",
   "name": "python",
   "nbconvert_exporter": "python",
   "pygments_lexer": "ipython3",
   "version": "3.10.9"
  }
 },
 "nbformat": 4,
 "nbformat_minor": 2
}
