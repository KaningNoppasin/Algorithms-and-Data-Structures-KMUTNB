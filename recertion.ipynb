{
 "cells": [
  {
   "cell_type": "code",
   "execution_count": null,
   "metadata": {},
   "outputs": [],
   "source": [
    "def reverse(s):\n",
    "    if not(len(s)):\n",
    "        return \"\"\n",
    "    else:\n",
    "        return s[-1] + reverse(s[0:len(s)-1])"
   ]
  },
  {
   "cell_type": "code",
   "execution_count": 12,
   "metadata": {},
   "outputs": [],
   "source": [
    "def binary_search(data,target):\n",
    "    mid = int(len(data) / 2)\n",
    "    print(mid)\n",
    "    if data[mid] == target:\n",
    "        return True\n",
    "    elif data[mid] > target:\n",
    "        binary_search(data[0:mid - 1],target)\n",
    "    elif data[mid] < target:\n",
    "        binary_search(data[mid + 1:len(data) - 1],target)"
   ]
  },
  {
   "cell_type": "code",
   "execution_count": 14,
   "metadata": {},
   "outputs": [
    {
     "name": "stdout",
     "output_type": "stream",
     "text": [
      "12\n"
     ]
    }
   ],
   "source": [
    "def gcd(large_num, small_num):\n",
    "    while(small_num):\n",
    "        large_num, small_num = small_num, large_num % small_num\n",
    "    return large_num\n",
    "\n",
    "print(gcd(60,48))"
   ]
  },
  {
   "cell_type": "code",
   "execution_count": 22,
   "metadata": {},
   "outputs": [
    {
     "name": "stdout",
     "output_type": "stream",
     "text": [
      "(12, 0)\n"
     ]
    }
   ],
   "source": [
    "def gcd(large_num, small_num):\n",
    "    if(small_num):\n",
    "        large_num, small_num = gcd(small_num, large_num % small_num)\n",
    "    return large_num,small_num\n",
    "\n",
    "print(gcd(60,48))"
   ]
  },
  {
   "cell_type": "code",
   "execution_count": 25,
   "metadata": {},
   "outputs": [
    {
     "name": "stdout",
     "output_type": "stream",
     "text": [
      "12\n"
     ]
    }
   ],
   "source": [
    "def gcd(large_num, small_num):\n",
    "    if(small_num):\n",
    "        save_large_num = large_num\n",
    "        large_num = small_num\n",
    "        small_num = save_large_num % small_num\n",
    "        return gcd(large_num,small_num)\n",
    "    return large_num\n",
    "\n",
    "print(gcd(60,48))"
   ]
  },
  {
   "cell_type": "code",
   "execution_count": 26,
   "metadata": {},
   "outputs": [
    {
     "name": "stdout",
     "output_type": "stream",
     "text": [
      "12\n"
     ]
    }
   ],
   "source": [
    "def gcd(large_num, small_num):\n",
    "    \"\"\"gcd function\n",
    "\n",
    "    Args:\n",
    "        large_num (int): => small_num\n",
    "        small_num (int): => large_num % small_num\n",
    "\n",
    "    Returns:\n",
    "        int: large_num\n",
    "    \"\"\"\n",
    "    if(small_num):\n",
    "        return gcd(small_num,large_num % small_num)\n",
    "    return large_num\n",
    "\n",
    "print(gcd(60,48))"
   ]
  },
  {
   "cell_type": "code",
   "execution_count": null,
   "metadata": {},
   "outputs": [],
   "source": [
    "def is_palindrome(string):\n",
    "    if (len(string) == 0) :\n",
    "        return True\n",
    "    elif string[0] == string[-1]:\n",
    "        return is_palindrome(string[1:-1])\n",
    "    else:\n",
    "        return False"
   ]
  },
  {
   "cell_type": "markdown",
   "metadata": {},
   "source": [
    "<h1>Chat GPT</h1>"
   ]
  },
  {
   "cell_type": "code",
   "execution_count": null,
   "metadata": {},
   "outputs": [],
   "source": [
    "def reverse(string):\n",
    "    # Base case: if the string is empty or has only one character, it is already reversed\n",
    "    if len(string) <= 1:\n",
    "        return string\n",
    "\n",
    "    # Recursive case: reverse the substring excluding the first character,\n",
    "    # and concatenate the first character at the end\n",
    "    return reverse(string[1:]) + string[0]\n",
    "\n",
    "# Example usage:\n",
    "original_string = \"Hello, World!\"\n",
    "reversed_string = reverse(original_string)\n",
    "print(\"Original String:\", original_string)\n",
    "print(\"Reversed String:\", reversed_string)"
   ]
  },
  {
   "cell_type": "code",
   "execution_count": null,
   "metadata": {},
   "outputs": [],
   "source": [
    "def binary_search(data, target):\n",
    "    # Internal recursive function to perform the binary search\n",
    "    def _binary_search(data, target, low, high):\n",
    "        # Base case: if the search range is empty, the target is not found\n",
    "        if low > high:\n",
    "            return False\n",
    "\n",
    "        # Calculate the middle index of the current search range\n",
    "        mid = (low + high) // 2\n",
    "\n",
    "        # Check if the middle element is the target\n",
    "        if data[mid] == target:\n",
    "            return True  # Target found\n",
    "        elif data[mid] < target:\n",
    "            # If the target is greater than the middle element, search in the right half\n",
    "            return _binary_search(data, target, mid + 1, high)\n",
    "        else:\n",
    "            # If the target is less than the middle element, search in the left half\n",
    "            return _binary_search(data, target, low, mid - 1)\n",
    "\n",
    "    # Call the internal recursive function with the initial search range\n",
    "    return _binary_search(data, target, 0, len(data) - 1)\n",
    "\n",
    "# Example usage:\n",
    "data_list = [2, 3, 4, 10, 40]\n",
    "target_value_1 = 10\n",
    "target_value_2 = 11\n",
    "\n",
    "result_1 = binary_search(data_list, target_value_1)\n",
    "result_2 = binary_search(data_list, target_value_2)\n",
    "\n",
    "print(result_1)  # Should print True\n",
    "print(result_2)  # Should print False\n"
   ]
  },
  {
   "cell_type": "code",
   "execution_count": null,
   "metadata": {},
   "outputs": [],
   "source": [
    "def gcd_recursive(large_num, small_num):\n",
    "    # Base case: when the smaller number becomes 0, the GCD is found\n",
    "    if small_num == 0:\n",
    "        return large_num\n",
    "    else:\n",
    "        # Recursive case: call the function with the smaller number and the remainder\n",
    "        return gcd_recursive(small_num, large_num % small_num)\n",
    "\n",
    "# Example usage:\n",
    "num1 = 48\n",
    "num2 = 18\n",
    "\n",
    "result = gcd_recursive(num1, num2)\n",
    "print(f\"The GCD of {num1} and {num2} is {result}.\")\n"
   ]
  },
  {
   "cell_type": "code",
   "execution_count": null,
   "metadata": {},
   "outputs": [],
   "source": [
    "def is_palindrome(string):\n",
    "    # Base case: if the string is empty or has only one character, it is a palindrome\n",
    "    if len(string) <= 1:\n",
    "        return True\n",
    "\n",
    "    # Check if the first and last characters are the same\n",
    "    if string[0] == string[-1]:\n",
    "        # Recursive case: check if the substring excluding the first and last characters is a palindrome\n",
    "        return is_palindrome(string[1:-1])\n",
    "    else:\n",
    "        return False\n",
    "\n",
    "# Example usage:\n",
    "string1 = \"racecar\"\n",
    "string2 = \"raceca\"\n",
    "\n",
    "result1 = is_palindrome(string1)\n",
    "result2 = is_palindrome(string2)\n",
    "\n",
    "print(result1)  # Should print True\n",
    "print(result2)  # Should print False\n"
   ]
  },
  {
   "cell_type": "code",
   "execution_count": null,
   "metadata": {},
   "outputs": [],
   "source": [
    "def factorial(n):\n",
    "    # Base case: factorial of 0 is 1 by convention\n",
    "    if n == 0:\n",
    "        return 1\n",
    "    else:\n",
    "        # Recursive case: n! = n * (n-1)!\n",
    "        return n * factorial(n - 1)\n",
    "\n",
    "# Example usage:\n",
    "n = 5\n",
    "result = factorial(n)\n",
    "print(f\"The factorial of {n} is {result}.\")\n"
   ]
  },
  {
   "cell_type": "code",
   "execution_count": null,
   "metadata": {},
   "outputs": [],
   "source": [
    "def harmonic_num(n):\n",
    "    # Base case: harmonic number for n = 1 is 1\n",
    "    if n == 1:\n",
    "        return 1\n",
    "    else:\n",
    "        # Recursive case: H_n = 1/n + H_(n-1)\n",
    "        return 1 / n + harmonic_num(n - 1)\n",
    "\n",
    "# Example usage:\n",
    "n1 = 1\n",
    "n2 = 2\n",
    "\n",
    "result1 = harmonic_num(n1)\n",
    "result2 = harmonic_num(n2)\n",
    "\n",
    "print(f\"The {n1}-th harmonic number is {result1}.\")\n",
    "print(f\"The {n2}-th harmonic number is {result2}.\")\n"
   ]
  },
  {
   "cell_type": "markdown",
   "metadata": {},
   "source": [
    "#Test"
   ]
  },
  {
   "cell_type": "code",
   "execution_count": 22,
   "metadata": {},
   "outputs": [
    {
     "name": "stdout",
     "output_type": "stream",
     "text": [
      "1 : =>1\n",
      "2 : =>3\n",
      "3 : =>7\n",
      "4 : =>7\n",
      "5 : =>15\n",
      "6 : =>15\n",
      "7 : =>15\n",
      "8 : =>15\n",
      "9 : =>31\n",
      "10 : =>31\n",
      "11 : =>31\n",
      "12 : =>31\n",
      "13 : =>31\n",
      "14 : =>31\n",
      "15 : =>31\n",
      "16 : =>31\n",
      "17 : =>63\n",
      "18 : =>63\n",
      "19 : =>63\n",
      "20 : =>63\n",
      "21 : =>63\n",
      "22 : =>63\n",
      "23 : =>63\n",
      "24 : =>63\n",
      "25 : =>63\n",
      "26 : =>63\n",
      "27 : =>63\n",
      "28 : =>63\n",
      "29 : =>63\n",
      "30 : =>63\n",
      "31 : =>63\n",
      "32 : =>63\n",
      "33 : =>127\n",
      "34 : =>127\n",
      "35 : =>127\n",
      "36 : =>127\n",
      "37 : =>127\n",
      "38 : =>127\n",
      "39 : =>127\n",
      "40 : =>127\n",
      "41 : =>127\n",
      "42 : =>127\n",
      "43 : =>127\n",
      "44 : =>127\n",
      "45 : =>127\n",
      "46 : =>127\n",
      "47 : =>127\n",
      "48 : =>127\n",
      "49 : =>127\n",
      "50 : =>127\n"
     ]
    },
    {
     "data": {
      "image/png": "[encoded data removed]",
      "text/plain": [
       "<Figure size 640x480 with 1 Axes>"
      ]
     },
     "metadata": {},
     "output_type": "display_data"
    }
   ],
   "source": [
    "import matplotlib.pyplot as plt\n",
    "\n",
    "def Function(n):\n",
    "    global count\n",
    "    count += 1\n",
    "    if n <= 1:\n",
    "        return\n",
    "    Function(n/2)\n",
    "    Function(n/2)\n",
    "\n",
    "x = 0\n",
    "xpoints = []\n",
    "ypoints = []\n",
    "while x < 50:\n",
    "    x += 1\n",
    "    count = 0\n",
    "    xpoints.append(x)\n",
    "    Function(x)\n",
    "    print(f\"{x} : =>{count}\")\n",
    "    ypoints.append(count)\n",
    "\n",
    "\n",
    "plt.plot(xpoints, ypoints)\n",
    "\n",
    "plt.show()"
   ]
  },
  {
   "cell_type": "code",
   "execution_count": 23,
   "metadata": {},
   "outputs": [],
   "source": [
    "def MergeSort(list):\n",
    "    if len(list)>1:\n",
    "        mid = len(list)//2 #splits list in half\n",
    "        left = list[:mid]\n",
    "        right = list[mid:]\n",
    "\n",
    "        MergeSort(left) #repeats until length of each list is 1\n",
    "        MergeSort(right)\n",
    "\n",
    "        a = 0\n",
    "        b = 0\n",
    "        c = 0\n",
    "        while a < len(left) and b < len(right):\n",
    "            # Sort small problem\n",
    "            if left[a] < right[b]:\n",
    "                list[c]=left[a]\n",
    "                a = a + 1\n",
    "            else:\n",
    "                list[c]=right[b]\n",
    "                b = b + 1\n",
    "            c = c + 1\n",
    "            print(f\"\"\"\n",
    "First Condition:\n",
    "a = {a} , b = {b} , c = {c}\n",
    "list => {list}\n",
    "                \"\"\")\n",
    "        while a < len(left):\n",
    "            list[c]=left[a]\n",
    "            a = a + 1\n",
    "            c = c + 1\n",
    "\n",
    "        while b < len(right):\n",
    "            list[c]=right[b]\n",
    "            b = b + 1\n",
    "            c = c + 1\n",
    "    return list"
   ]
  },
  {
   "cell_type": "code",
   "execution_count": 24,
   "metadata": {},
   "outputs": [
    {
     "name": "stdout",
     "output_type": "stream",
     "text": [
      "\n",
      "First Condition:\n",
      "a = 0 , b = 1 , c = 1\n",
      "list => [16, 16]\n",
      "                \n",
      "\n",
      "First Condition:\n",
      "a = 0 , b = 1 , c = 1\n",
      "list => [7, 7]\n",
      "                \n",
      "\n",
      "First Condition:\n",
      "a = 0 , b = 1 , c = 1\n",
      "list => [7, 16, 83, 7]\n",
      "                \n",
      "\n",
      "First Condition:\n",
      "a = 1 , b = 1 , c = 2\n",
      "list => [7, 16, 83, 7]\n",
      "                \n",
      "\n",
      "First Condition:\n",
      "a = 2 , b = 1 , c = 3\n",
      "list => [7, 16, 44, 7]\n",
      "                \n",
      "\n",
      "First Condition:\n",
      "a = 0 , b = 1 , c = 1\n",
      "list => [21, 21]\n",
      "                \n",
      "\n",
      "First Condition:\n",
      "a = 0 , b = 1 , c = 1\n",
      "list => [10, 10]\n",
      "                \n",
      "\n",
      "First Condition:\n",
      "a = 0 , b = 1 , c = 1\n",
      "list => [10, 45, 10]\n",
      "                \n",
      "\n",
      "First Condition:\n",
      "a = 1 , b = 1 , c = 2\n",
      "list => [10, 34, 10]\n",
      "                \n",
      "\n",
      "First Condition:\n",
      "a = 0 , b = 1 , c = 1\n",
      "list => [10, 21, 34, 45, 10]\n",
      "                \n",
      "\n",
      "First Condition:\n",
      "a = 1 , b = 1 , c = 2\n",
      "list => [10, 21, 34, 45, 10]\n",
      "                \n",
      "\n",
      "First Condition:\n",
      "a = 1 , b = 2 , c = 3\n",
      "list => [10, 21, 34, 45, 10]\n",
      "                \n",
      "\n",
      "First Condition:\n",
      "a = 1 , b = 3 , c = 4\n",
      "list => [10, 21, 34, 45, 10]\n",
      "                \n",
      "\n",
      "First Condition:\n",
      "a = 1 , b = 0 , c = 1\n",
      "list => [7, 16, 83, 7, 67, 21, 34, 45, 10]\n",
      "                \n",
      "\n",
      "First Condition:\n",
      "a = 1 , b = 1 , c = 2\n",
      "list => [7, 10, 83, 7, 67, 21, 34, 45, 10]\n",
      "                \n",
      "\n",
      "First Condition:\n",
      "a = 2 , b = 1 , c = 3\n",
      "list => [7, 10, 16, 7, 67, 21, 34, 45, 10]\n",
      "                \n",
      "\n",
      "First Condition:\n",
      "a = 2 , b = 2 , c = 4\n",
      "list => [7, 10, 16, 21, 67, 21, 34, 45, 10]\n",
      "                \n",
      "\n",
      "First Condition:\n",
      "a = 2 , b = 3 , c = 5\n",
      "list => [7, 10, 16, 21, 34, 21, 34, 45, 10]\n",
      "                \n",
      "\n",
      "First Condition:\n",
      "a = 3 , b = 3 , c = 6\n",
      "list => [7, 10, 16, 21, 34, 44, 34, 45, 10]\n",
      "                \n",
      "\n",
      "First Condition:\n",
      "a = 3 , b = 4 , c = 7\n",
      "list => [7, 10, 16, 21, 34, 44, 45, 45, 10]\n",
      "                \n",
      "\n",
      "First Condition:\n",
      "a = 3 , b = 5 , c = 8\n",
      "list => [7, 10, 16, 21, 34, 44, 45, 67, 10]\n",
      "                \n"
     ]
    },
    {
     "data": {
      "text/plain": [
       "[7, 10, 16, 21, 34, 44, 45, 67, 83]"
      ]
     },
     "execution_count": 24,
     "metadata": {},
     "output_type": "execute_result"
    }
   ],
   "source": [
    "list = [44,16,83,7,67,21,34,45,10]\n",
    "MergeSort(list)"
   ]
  }
 ],
 "metadata": {
  "kernelspec": {
   "display_name": "base",
   "language": "python",
   "name": "python3"
  },
  "language_info": {
   "codemirror_mode": {
    "name": "ipython",
    "version": 3
   },
   "file_extension": ".py",
   "mimetype": "text/x-python",
   "name": "python",
   "nbconvert_exporter": "python",
   "pygments_lexer": "ipython3",
   "version": "3.10.9"
  }
 },
 "nbformat": 4,
 "nbformat_minor": 2
}
