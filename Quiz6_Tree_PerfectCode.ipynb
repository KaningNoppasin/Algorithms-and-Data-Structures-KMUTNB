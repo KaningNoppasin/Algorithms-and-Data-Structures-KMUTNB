{
 "cells": [
  {
   "cell_type": "markdown",
   "metadata": {},
   "source": [
    "# *** Edit BinaryTree Class"
   ]
  },
  {
   "cell_type": "code",
   "execution_count": 7,
   "metadata": {},
   "outputs": [],
   "source": [
    "class BinaryTree:\n",
    "    def __init__(self, root_obj):\n",
    "        self.key = root_obj\n",
    "        self.left_child = None\n",
    "        self.right_child = None\n",
    "\n",
    "    def insert_left(self, new_node):\n",
    "        if self.left_child is None:\n",
    "            self.left_child = BinaryTree(new_node) if not isinstance(new_node, BinaryTree) else new_node # Create New BinaryTree :Note! Check type of root (new_node)\n",
    "        else:\n",
    "            new_child = BinaryTree(new_node)\n",
    "            new_child.left_child = self.left_child\n",
    "            self.left_child = new_child\n",
    "\n",
    "    def insert_right(self, new_node):\n",
    "        if self.right_child == None:\n",
    "            self.right_child = BinaryTree(new_node) if not isinstance(new_node, BinaryTree) else new_node # Create New BinaryTree :Note! Check type of root (new_node)\n",
    "        else:\n",
    "            new_child = BinaryTree(new_node)\n",
    "            new_child.right_child = self.right_child\n",
    "            self.right_child = new_child\n",
    "\n",
    "    def get_root_val(self):\n",
    "        return self.key\n",
    "\n",
    "    def set_root_val(self, new_obj):\n",
    "        self.key = new_obj\n",
    "\n",
    "    def get_left_child(self):\n",
    "        return self.left_child\n",
    "\n",
    "    def get_right_child(self):\n",
    "        return self.right_child\n",
    "\n",
    "def print_tree(tree, level=0):\n",
    "    if tree != None:\n",
    "        print_tree(tree.get_right_child(), level + 1)\n",
    "        print(' '*level*2 + tree.get_root_val())\n",
    "        print_tree(tree.get_left_child(), level + 1)\n"
   ]
  },
  {
   "cell_type": "markdown",
   "metadata": {},
   "source": [
    "<img src=\"./Picture Quiz 6 Trees/1_Quiz 6 Trees.png\" style=\"width:65%;hight:65%\">"
   ]
  },
  {
   "cell_type": "code",
   "execution_count": 8,
   "metadata": {},
   "outputs": [
    {
     "name": "stdout",
     "output_type": "stream",
     "text": [
      "    4\n",
      "  /\n",
      "    3\n",
      "+\n",
      "    2\n",
      "  *\n",
      "    1\n"
     ]
    }
   ],
   "source": [
    "def postfix_to_exp_tree(postfix):\n",
    "    \"\"\"\n",
    "    12*34/+\n",
    "    left_child : operator => Inner Node\n",
    "    right_child : operand => Extend Node\n",
    "    \"\"\"\n",
    "    operator = ['+', '-', '*', '/']\n",
    "    operand = [chr(c) for c in range(ord('A'), ord('Z') + 1)] + [str(i) for i in range(0,10)]\n",
    "    exp_tree_stack = []\n",
    "\n",
    "    for item in postfix:\n",
    "        if item in operand:\n",
    "            exp_tree_stack.append(item)\n",
    "        elif item in operator:\n",
    "            first_data = exp_tree_stack.pop()\n",
    "            second_data = exp_tree_stack.pop()\n",
    "\n",
    "            exp_append = BinaryTree(item)\n",
    "            exp_append.insert_right(first_data)\n",
    "            exp_append.insert_left(second_data)\n",
    "\n",
    "            exp_tree_stack.append(exp_append)\n",
    "    return exp_tree_stack.pop()\n",
    "\n",
    "print_tree(postfix_to_exp_tree(\"12*34/+\"))"
   ]
  },
  {
   "cell_type": "markdown",
   "metadata": {},
   "source": [
    "<img src=\"./Picture Quiz 6 Trees/2_Quiz 6 Trees.png\" style=\"width:65%;hight:65%\">"
   ]
  },
  {
   "cell_type": "code",
   "execution_count": 9,
   "metadata": {},
   "outputs": [
    {
     "name": "stdout",
     "output_type": "stream",
     "text": [
      "    4\n",
      "  /\n",
      "    3\n",
      "+\n",
      "    2\n",
      "  *\n",
      "    1\n"
     ]
    }
   ],
   "source": [
    "def prefix_to_exp_tree(prefix):\n",
    "    operator = ['+', '-', '*', '/']\n",
    "    operand = [chr(c) for c in range(ord('A'), ord('Z') + 1)] + [str(i) for i in range(0,10)]\n",
    "    exp_tree_stack = []\n",
    "\n",
    "    for item in prefix[::-1]:\n",
    "        if item in operand:\n",
    "            exp_tree_stack.append(item)\n",
    "        elif item in operator:\n",
    "            first_data = exp_tree_stack.pop()\n",
    "            second_data = exp_tree_stack.pop()\n",
    "\n",
    "            exp_append = BinaryTree(item)\n",
    "            exp_append.insert_left(first_data)\n",
    "            exp_append.insert_right(second_data)\n",
    "\n",
    "            exp_tree_stack.append(exp_append)\n",
    "    return exp_tree_stack.pop()\n",
    "\n",
    "print_tree(postfix_to_exp_tree(\"12*34/+\"))"
   ]
  },
  {
   "cell_type": "markdown",
   "metadata": {},
   "source": [
    "<img src=\"./Picture Quiz 6 Trees/3_Quiz 6 Trees.png\" style=\"width:65%;hight:65%\">"
   ]
  },
  {
   "cell_type": "code",
   "execution_count": 10,
   "metadata": {},
   "outputs": [
    {
     "name": "stdout",
     "output_type": "stream",
     "text": [
      "    3\n",
      "  -\n",
      "    8\n",
      "+\n",
      "    7\n",
      "  *\n",
      "    2\n"
     ]
    }
   ],
   "source": [
    "def fp_expr_to_expr_tree(fp_expr):\n",
    "    operator = ['+', '-', '*', '/']\n",
    "    operand = [chr(c) for c in range(ord('A'), ord('Z') + 1)] + [str(i) for i in range(0,10)]\n",
    "    exp_tree_stack = []\n",
    "    operator_stack = []\n",
    "\n",
    "    for item in fp_expr:\n",
    "        if item == \"(\":\n",
    "            operator_stack.append(item)\n",
    "        elif item in operator:\n",
    "            operator_stack.append(item)\n",
    "        elif item in operand:\n",
    "            exp_tree_stack.append(item)\n",
    "        elif item == ')':\n",
    "            while len(operator_stack) > 0 and operator_stack[-1] != '(':\n",
    "                exp_append = BinaryTree(operator_stack.pop())\n",
    "                exp_append.insert_right(exp_tree_stack.pop()) # => first data\n",
    "                exp_append.insert_left(exp_tree_stack.pop()) # => second data\n",
    "                \"\"\"\n",
    "                exp_append : BinaryTree (class)\n",
    "                            operator_stack.pop()\n",
    "                                /   \\\n",
    "                        first data  second data\n",
    "                \"\"\"\n",
    "            operator_stack.pop() # => (\n",
    "            exp_tree_stack.append(exp_append)\n",
    "    return exp_tree_stack.pop()\n",
    "\n",
    "print_tree(fp_expr_to_expr_tree(\"((2*7)+(8-3))\"))"
   ]
  },
  {
   "cell_type": "markdown",
   "metadata": {},
   "source": [
    "<img src=\"./Picture Quiz 6 Trees/4_Quiz 6 Trees.png\" style=\"width:65%;hight:65%\">"
   ]
  },
  {
   "cell_type": "code",
   "execution_count": 11,
   "metadata": {},
   "outputs": [],
   "source": [
    "def eval_tree(expr_tree):\n",
    "    if expr_tree.get_left_child() is None and expr_tree.get_right_child() is None: return expr_tree.get_root_val()\n",
    "    \"\"\"\n",
    "    BaseCase :\n",
    "                expr_tree.get_root_val() => return\n",
    "                    /   \\\n",
    "                None    None\n",
    "    \"\"\"\n",
    "    return float(eval(str(eval_tree(expr_tree.get_left_child())) + expr_tree.get_root_val() + str(eval_tree(expr_tree.get_right_child()))))"
   ]
  },
  {
   "cell_type": "code",
   "execution_count": 12,
   "metadata": {},
   "outputs": [
    {
     "name": "stdout",
     "output_type": "stream",
     "text": [
      "+*12/34 = 2.75\n",
      "+1/23 = 1.6666666666666665\n",
      "+*123 = 5.0\n"
     ]
    }
   ],
   "source": [
    "tree = BinaryTree(\"+\")\n",
    "tree.insert_left(\"*\")\n",
    "tree.left_child.insert_left(\"1\")\n",
    "tree.left_child.insert_right(\"2\")\n",
    "tree.insert_right(\"/\")\n",
    "tree.right_child.insert_left(\"3\")\n",
    "tree.right_child.insert_right(\"4\")\n",
    "print(\"+*12/34 =\",eval_tree(tree))\n",
    "\n",
    "tree = BinaryTree(\"+\")\n",
    "tree.insert_left(\"1\")\n",
    "tree.insert_right(\"/\")\n",
    "tree.right_child.insert_left(\"2\")\n",
    "tree.right_child.insert_right(\"3\")\n",
    "print(\"+1/23 =\",eval_tree(tree))\n",
    "\n",
    "tree = BinaryTree(\"+\")\n",
    "tree.insert_left(\"*\")\n",
    "tree.left_child.insert_left(\"1\")\n",
    "tree.left_child.insert_right(\"2\")\n",
    "tree.insert_right(\"3\")\n",
    "print(\"+*123 =\",eval_tree(tree))"
   ]
  },
  {
   "cell_type": "markdown",
   "metadata": {},
   "source": [
    "<img src=\"./Picture Quiz 6 Trees/5_Quiz 6 Trees.png\" style=\"width:65%;hight:65%\">"
   ]
  },
  {
   "cell_type": "code",
   "execution_count": 13,
   "metadata": {},
   "outputs": [],
   "source": [
    "def inorder(expr_tree):\n",
    "    if expr_tree.get_left_child() is None and expr_tree.get_right_child() is None: return expr_tree.get_root_val()\n",
    "    \"\"\"\n",
    "    BaseCase :\n",
    "                expr_tree.get_root_val() => return\n",
    "                    /   \\\n",
    "                None    None\n",
    "    \"\"\"\n",
    "    return '(' + str(inorder(expr_tree.get_left_child())) + expr_tree.get_root_val() + str(inorder(expr_tree.get_right_child())) + ')'"
   ]
  },
  {
   "cell_type": "code",
   "execution_count": 14,
   "metadata": {},
   "outputs": [
    {
     "name": "stdout",
     "output_type": "stream",
     "text": [
      "((1*2)+(3/4))\n"
     ]
    }
   ],
   "source": [
    "tree = BinaryTree(\"+\")\n",
    "tree.insert_left(\"*\")\n",
    "tree.left_child.insert_left(\"1\")\n",
    "tree.left_child.insert_right(\"2\")\n",
    "tree.insert_right(\"/\")\n",
    "tree.right_child.insert_left(\"3\")\n",
    "tree.right_child.insert_right(\"4\")\n",
    "print(inorder(tree))"
   ]
  },
  {
   "cell_type": "markdown",
   "metadata": {},
   "source": [
    "<img src=\"./Picture Quiz 6 Trees/6_Quiz 6 Trees.png\" style=\"width:65%;hight:65%\">"
   ]
  },
  {
   "cell_type": "code",
   "execution_count": 15,
   "metadata": {},
   "outputs": [],
   "source": [
    "def postorder(expr_tree):\n",
    "    if expr_tree.get_left_child() is None and expr_tree.get_right_child() is None: return expr_tree.get_root_val()\n",
    "    \"\"\"\n",
    "    BaseCase :\n",
    "                expr_tree.get_root_val() => return\n",
    "                    /   \\\n",
    "                None    None\n",
    "    \"\"\"\n",
    "    return str(postorder(expr_tree.get_left_child())) + str(postorder(expr_tree.get_right_child())) + expr_tree.get_root_val()"
   ]
  },
  {
   "cell_type": "code",
   "execution_count": 16,
   "metadata": {},
   "outputs": [
    {
     "name": "stdout",
     "output_type": "stream",
     "text": [
      "12*34/+\n"
     ]
    }
   ],
   "source": [
    "tree = BinaryTree(\"+\")\n",
    "tree.insert_left(\"*\")\n",
    "tree.left_child.insert_left(\"1\")\n",
    "tree.left_child.insert_right(\"2\")\n",
    "tree.insert_right(\"/\")\n",
    "tree.right_child.insert_left(\"3\")\n",
    "tree.right_child.insert_right(\"4\")\n",
    "print(postorder(tree))"
   ]
  },
  {
   "cell_type": "markdown",
   "metadata": {},
   "source": [
    "<img src=\"./Picture Quiz 6 Trees/7_Quiz 6 Trees.png\" style=\"width:65%;hight:65%\">"
   ]
  },
  {
   "cell_type": "code",
   "execution_count": 17,
   "metadata": {},
   "outputs": [],
   "source": [
    "def preorder(expr_tree):\n",
    "    if expr_tree.get_left_child() is None and expr_tree.get_right_child() is None: return expr_tree.get_root_val()\n",
    "    \"\"\"\n",
    "    BaseCase :\n",
    "                expr_tree.get_root_val() => return\n",
    "                    /   \\\n",
    "                None    None\n",
    "    \"\"\"\n",
    "    return expr_tree.get_root_val() + str(preorder(expr_tree.get_left_child())) + str(preorder(expr_tree.get_right_child()))"
   ]
  },
  {
   "cell_type": "code",
   "execution_count": 18,
   "metadata": {},
   "outputs": [
    {
     "name": "stdout",
     "output_type": "stream",
     "text": [
      "+*12/34\n"
     ]
    }
   ],
   "source": [
    "tree = BinaryTree(\"+\")\n",
    "tree.insert_left(\"*\")\n",
    "tree.left_child.insert_left(\"1\")\n",
    "tree.left_child.insert_right(\"2\")\n",
    "tree.insert_right(\"/\")\n",
    "tree.right_child.insert_left(\"3\")\n",
    "tree.right_child.insert_right(\"4\")\n",
    "print(preorder(tree))"
   ]
  }
 ],
 "metadata": {
  "kernelspec": {
   "display_name": "base",
   "language": "python",
   "name": "python3"
  },
  "language_info": {
   "codemirror_mode": {
    "name": "ipython",
    "version": 3
   },
   "file_extension": ".py",
   "mimetype": "text/x-python",
   "name": "python",
   "nbconvert_exporter": "python",
   "pygments_lexer": "ipython3",
   "version": "3.10.9"
  }
 },
 "nbformat": 4,
 "nbformat_minor": 2
}
